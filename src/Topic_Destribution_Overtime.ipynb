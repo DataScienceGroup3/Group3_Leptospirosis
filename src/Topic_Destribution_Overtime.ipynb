{
 "cells": [
  {
   "cell_type": "markdown",
   "metadata": {},
   "source": [
    "# Topic Classification and Trend Visualization\n",
    "\n",
    "## Data Preparation\n",
    "- Extracted **Title** and **Abstract** from the `authors.leptospirosis.csv` file to analyze topics.\n",
    "\n",
    "## Topic Classification\n",
    "1. Initially attempted to classify into **10 topics**, but some articles were not assigned (values were 0).  \n",
    "2. Reduced the number of topics and successfully classified into **6 topics**.  \n",
    "3. Interpreted the content of each topic to identify key characteristics and themes.\n",
    "\n",
    "## Yearly Trend Analysis\n",
    "1. Counted the yearly occurrences for each topic.  \n",
    "2. Visualized the yearly proportions of topics using a **Stacked Area Chart** to show trends over time.\n",
    "\n",
    "## Purpose of Visualization\n",
    "- To observe the rise and fall of research topics at a glance.  \n",
    "- To highlight the importance of specific topics during certain periods and clarify how research priorities shifted over time."
   ]
  },
  {
   "cell_type": "code",
   "execution_count": 1,
   "metadata": {
    "id": "hMdY-7MMww77"
   },
   "outputs": [],
   "source": [
    "import pandas as pd\n",
    "import numpy as np\n",
    "import matplotlib.pyplot as plt\n",
    "\n",
    "from sklearn.feature_extraction.text import TfidfVectorizer\n",
    "from sklearn.decomposition import LatentDirichletAllocation\n",
    "from sklearn.metrics.pairwise import cosine_similarity\n",
    "\n",
    "import plotly.express as px\n",
    "import plotly.graph_objects as go"
   ]
  },
  {
   "cell_type": "code",
   "execution_count": 77,
   "metadata": {
    "collapsed": true,
    "id": "G67VP1TJw9rJ"
   },
   "outputs": [],
   "source": [
    "# Reading the CSV files\n",
    "articles_df = pd.read_csv('../data/articles.leptospirosis.csv')\n",
    "authors_df = pd.read_csv('../data/authors.leptospirosis.csv')\n",
    "paper_counts_df = pd.read_csv('../data/paper_counts.csv')\n",
    "\n",
    "# display(articles_df.head())\n",
    "# display(authors_df.head())\n",
    "# display(paper_counts_df.head())\n",
    "\n",
    "# # Check the data types and basic structure of the dataframes\n",
    "# print(articles_df.info())\n",
    "# print(authors_df.info())\n",
    "# print(paper_counts_df.info())\n",
    "\n",
    "# # Check for missing values in each dataset\n",
    "# print(articles_df.isnull().sum())\n",
    "# print(authors_df.isnull().sum())\n",
    "# print(paper_counts_df.isnull().sum())"
   ]
  },
  {
   "cell_type": "code",
   "execution_count": 26,
   "metadata": {
    "collapsed": true,
    "id": "eQeuN3OF0UlD"
   },
   "outputs": [],
   "source": [
    "# Drop rows with missing values in specific columns\n",
    "# Remove rows with missing values in the articles DataFrame\n",
    "# articles_df_cleaned = articles_df.dropna()\n",
    "# authors_df_cleaned = authors_df.dropna()\n",
    "# paper_counts_df_cleaned = paper_counts_df.dropna()\n",
    "\n",
    "# Drop duplicate rows\n",
    "# articles_df.drop_duplicates(inplace=True)\n",
    "# authors_df.drop_duplicates(inplace=True)\n",
    "# paper_counts_df.drop_duplicates(inplace=True)\n",
    "\n",
    "# # Check if there are any missing values left\n",
    "# print(articles_df.isnull().sum())\n",
    "# print(authors_df.isnull().sum())"
   ]
  },
  {
   "cell_type": "code",
   "execution_count": 78,
   "metadata": {
    "collapsed": true,
    "id": "x-yPdyBy0WQc"
   },
   "outputs": [],
   "source": [
    "# Check the data types of each column\n",
    "# print(articles_df.dtypes)\n",
    "\n",
    "# Example of type conversion if needed\n",
    "# articles_df.loc[:, 'Year'] = articles_df['Year'].astype(int)"
   ]
  },
  {
   "cell_type": "code",
   "execution_count": 149,
   "metadata": {
    "id": "A6ujx2Sn7RcA"
   },
   "outputs": [],
   "source": [
    "num_topics = 6\n",
    "\n",
    "# Combine the title and abstract into a single text column\n",
    "articles_df['Text'] = articles_df['Title'].fillna('') + ' ' + articles_df['Abstract'].fillna('')\n",
    "\n",
    "# Set up the TF-IDF vectorizer\n",
    "tfidf_vectorizer = TfidfVectorizer(stop_words='english', max_features=1000)\n",
    "X = tfidf_vectorizer.fit_transform(articles_df['Text'])\n",
    "\n",
    "lda = LatentDirichletAllocation(n_components=num_topics, random_state=42)\n",
    "lda.fit(X)\n",
    "\n",
    "# Get the topic distribution for each document\n",
    "topic_distribution = lda.transform(X)\n",
    "\n",
    "# Assign each document to its most likely topic\n",
    "topic_assignments = topic_distribution.argmax(axis=1)"
   ]
  },
  {
   "cell_type": "code",
   "execution_count": 115,
   "metadata": {
    "colab": {
     "base_uri": "https://localhost:8080/",
     "height": 617
    },
    "executionInfo": {
     "elapsed": 1183,
     "status": "ok",
     "timestamp": 1737897144818,
     "user": {
      "displayName": "Yuri Kobuki",
      "userId": "11061684448908874128"
     },
     "user_tz": 0
    },
    "id": "WRajbTxzG9Cc",
    "outputId": "b11da019-835d-4751-cec6-2a62b5025e19"
   },
   "outputs": [
    {
     "data": {
      "application/vnd.plotly.v1+json": {
       "config": {
        "plotlyServerURL": "https://plot.ly"
       },
       "data": [
        {
         "marker": {
          "color": "#b4a7d6",
          "line": {
           "color": "black",
           "width": 2
          },
          "opacity": 0.6,
          "size": 90,
          "sizemode": "diameter",
          "symbol": "circle"
         },
         "mode": "markers",
         "name": "Topic 1",
         "type": "scatter",
         "x": [
          0.9753633478046363
         ],
         "y": [
          0.9124801211017597
         ]
        },
        {
         "mode": "text",
         "name": "Topic 1",
         "showlegend": true,
         "text": [
          "Topic 1: patients, dna, used, specific, pathogenic, based, agglutination, using, sera, lipl32, vaccines, tests, samples, specificity, rapid, antigen, recombinant, sensitivity, diagnostic, leptospira, igm, mat, detection, vaccine, leptospirosis, elisa, diagnosis, pcr, test, assay"
         ],
         "type": "scatter",
         "x": [
          null
         ],
         "y": [
          null
         ]
        },
        {
         "marker": {
          "color": "#c27ba0",
          "line": {
           "color": "black",
           "width": 2
          },
          "opacity": 0.6,
          "size": 90,
          "sizemode": "diameter",
          "symbol": "circle"
         },
         "mode": "markers",
         "name": "Topic 2",
         "type": "scatter",
         "x": [
          0.6879515227845744
         ],
         "y": [
          0.035179610226899416
         ]
        },
        {
         "mode": "text",
         "name": "Topic 2",
         "showlegend": true,
         "text": [
          "Topic 2: investigate, economic, old, children, farms, causing, viral, estimate, abortion, rodent, model, new, chronic, district, cattle, vaccination, herd, southern, virus, reproductive, herds, dairy, bovine, farm, cows, zealand, deer, hantavirus, lanka, sri"
         ],
         "type": "scatter",
         "x": [
          null
         ],
         "y": [
          null
         ]
        },
        {
         "marker": {
          "color": "#9fc5e8",
          "line": {
           "color": "black",
           "width": 2
          },
          "opacity": 0.6,
          "size": 90,
          "sizemode": "diameter",
          "symbol": "circle"
         },
         "mode": "markers",
         "name": "Topic 3",
         "type": "scatter",
         "x": [
          0.03490418194305478
         ],
         "y": [
          0.17272765456903072
         ]
        },
        {
         "mode": "text",
         "name": "Topic 3",
         "showlegend": true,
         "text": [
          "Topic 3: mortality, respiratory, year, jaundice, symptoms, associated, dengue, old, involvement, manifestations, infection, weil, illness, cases, diagnosis, treatment, report, syndrome, patient, disease, fever, failure, renal, pulmonary, case, clinical, acute, severe, patients, leptospirosis"
         ],
         "type": "scatter",
         "x": [
          null
         ],
         "y": [
          null
         ]
        },
        {
         "marker": {
          "color": "#b6d7a8",
          "line": {
           "color": "black",
           "width": 2
          },
          "opacity": 0.6,
          "size": 90,
          "sizemode": "diameter",
          "symbol": "circle"
         },
         "mode": "markers",
         "name": "Topic 4",
         "type": "scatter",
         "x": [
          0.06933871913542022
         ],
         "y": [
          0.22678182065198937
         ]
        },
        {
         "mode": "text",
         "name": "Topic 4",
         "showlegend": true,
         "text": [
          "Topic 4: gene, surface, role, outer, serovar, model, genes, mice, strain, hamsters, membrane, leptospires, pathogenesis, il, infection, binding, leptospirosis, response, cell, virulence, immune, cells, expression, host, leptospiral, pathogenic, protein, proteins, interrogans, leptospira"
         ],
         "type": "scatter",
         "x": [
          null
         ],
         "y": [
          null
         ]
        },
        {
         "marker": {
          "color": "#ffd966",
          "line": {
           "color": "black",
           "width": 2
          },
          "opacity": 0.6,
          "size": 90,
          "sizemode": "diameter",
          "symbol": "circle"
         },
         "mode": "markers",
         "name": "Topic 5",
         "type": "scatter",
         "x": [
          0.6719426004341713
         ],
         "y": [
          0.633704584707751
         ]
        },
        {
         "mode": "text",
         "name": "Topic 5",
         "showlegend": true,
         "text": [
          "Topic 5: zoonotic, rodents, transmission, associated, brazil, urban, incidence, seroprevalence, humans, positive, spp, animal, cattle, serovar, prevalence, species, serovars, samples, health, infection, factors, human, dogs, animals, cases, study, disease, risk, leptospira, leptospirosis"
         ],
         "type": "scatter",
         "x": [
          null
         ],
         "y": [
          null
         ]
        },
        {
         "marker": {
          "color": "#f4cccc",
          "line": {
           "color": "black",
           "width": 2
          },
          "opacity": 0.6,
          "size": 90,
          "sizemode": "diameter",
          "symbol": "circle"
         },
         "mode": "markers",
         "name": "Topic 6",
         "type": "scatter",
         "x": [
          0.8863134972240688
         ],
         "y": [
          0.7340115991336998
         ]
        },
        {
         "mode": "text",
         "name": "Topic 6",
         "showlegend": true,
         "text": [
          "Topic 6: emergence, change, factors, neglected, human, global, asia, risk, borne, zoonoses, public, tropical, zoonotic, emerging, burden, countries, infectious, climate, dengue, disease, review, india, malaria, fever, infections, health, leptospirosis, scrub, diseases, typhus"
         ],
         "type": "scatter",
         "x": [
          null
         ],
         "y": [
          null
         ]
        }
       ],
       "layout": {
        "height": 600,
        "plot_bgcolor": "white",
        "showlegend": true,
        "template": {
         "data": {
          "bar": [
           {
            "error_x": {
             "color": "#2a3f5f"
            },
            "error_y": {
             "color": "#2a3f5f"
            },
            "marker": {
             "line": {
              "color": "#E5ECF6",
              "width": 0.5
             },
             "pattern": {
              "fillmode": "overlay",
              "size": 10,
              "solidity": 0.2
             }
            },
            "type": "bar"
           }
          ],
          "barpolar": [
           {
            "marker": {
             "line": {
              "color": "#E5ECF6",
              "width": 0.5
             },
             "pattern": {
              "fillmode": "overlay",
              "size": 10,
              "solidity": 0.2
             }
            },
            "type": "barpolar"
           }
          ],
          "carpet": [
           {
            "aaxis": {
             "endlinecolor": "#2a3f5f",
             "gridcolor": "white",
             "linecolor": "white",
             "minorgridcolor": "white",
             "startlinecolor": "#2a3f5f"
            },
            "baxis": {
             "endlinecolor": "#2a3f5f",
             "gridcolor": "white",
             "linecolor": "white",
             "minorgridcolor": "white",
             "startlinecolor": "#2a3f5f"
            },
            "type": "carpet"
           }
          ],
          "choropleth": [
           {
            "colorbar": {
             "outlinewidth": 0,
             "ticks": ""
            },
            "type": "choropleth"
           }
          ],
          "contour": [
           {
            "colorbar": {
             "outlinewidth": 0,
             "ticks": ""
            },
            "colorscale": [
             [
              0,
              "#0d0887"
             ],
             [
              0.1111111111111111,
              "#46039f"
             ],
             [
              0.2222222222222222,
              "#7201a8"
             ],
             [
              0.3333333333333333,
              "#9c179e"
             ],
             [
              0.4444444444444444,
              "#bd3786"
             ],
             [
              0.5555555555555556,
              "#d8576b"
             ],
             [
              0.6666666666666666,
              "#ed7953"
             ],
             [
              0.7777777777777778,
              "#fb9f3a"
             ],
             [
              0.8888888888888888,
              "#fdca26"
             ],
             [
              1,
              "#f0f921"
             ]
            ],
            "type": "contour"
           }
          ],
          "contourcarpet": [
           {
            "colorbar": {
             "outlinewidth": 0,
             "ticks": ""
            },
            "type": "contourcarpet"
           }
          ],
          "heatmap": [
           {
            "colorbar": {
             "outlinewidth": 0,
             "ticks": ""
            },
            "colorscale": [
             [
              0,
              "#0d0887"
             ],
             [
              0.1111111111111111,
              "#46039f"
             ],
             [
              0.2222222222222222,
              "#7201a8"
             ],
             [
              0.3333333333333333,
              "#9c179e"
             ],
             [
              0.4444444444444444,
              "#bd3786"
             ],
             [
              0.5555555555555556,
              "#d8576b"
             ],
             [
              0.6666666666666666,
              "#ed7953"
             ],
             [
              0.7777777777777778,
              "#fb9f3a"
             ],
             [
              0.8888888888888888,
              "#fdca26"
             ],
             [
              1,
              "#f0f921"
             ]
            ],
            "type": "heatmap"
           }
          ],
          "heatmapgl": [
           {
            "colorbar": {
             "outlinewidth": 0,
             "ticks": ""
            },
            "colorscale": [
             [
              0,
              "#0d0887"
             ],
             [
              0.1111111111111111,
              "#46039f"
             ],
             [
              0.2222222222222222,
              "#7201a8"
             ],
             [
              0.3333333333333333,
              "#9c179e"
             ],
             [
              0.4444444444444444,
              "#bd3786"
             ],
             [
              0.5555555555555556,
              "#d8576b"
             ],
             [
              0.6666666666666666,
              "#ed7953"
             ],
             [
              0.7777777777777778,
              "#fb9f3a"
             ],
             [
              0.8888888888888888,
              "#fdca26"
             ],
             [
              1,
              "#f0f921"
             ]
            ],
            "type": "heatmapgl"
           }
          ],
          "histogram": [
           {
            "marker": {
             "pattern": {
              "fillmode": "overlay",
              "size": 10,
              "solidity": 0.2
             }
            },
            "type": "histogram"
           }
          ],
          "histogram2d": [
           {
            "colorbar": {
             "outlinewidth": 0,
             "ticks": ""
            },
            "colorscale": [
             [
              0,
              "#0d0887"
             ],
             [
              0.1111111111111111,
              "#46039f"
             ],
             [
              0.2222222222222222,
              "#7201a8"
             ],
             [
              0.3333333333333333,
              "#9c179e"
             ],
             [
              0.4444444444444444,
              "#bd3786"
             ],
             [
              0.5555555555555556,
              "#d8576b"
             ],
             [
              0.6666666666666666,
              "#ed7953"
             ],
             [
              0.7777777777777778,
              "#fb9f3a"
             ],
             [
              0.8888888888888888,
              "#fdca26"
             ],
             [
              1,
              "#f0f921"
             ]
            ],
            "type": "histogram2d"
           }
          ],
          "histogram2dcontour": [
           {
            "colorbar": {
             "outlinewidth": 0,
             "ticks": ""
            },
            "colorscale": [
             [
              0,
              "#0d0887"
             ],
             [
              0.1111111111111111,
              "#46039f"
             ],
             [
              0.2222222222222222,
              "#7201a8"
             ],
             [
              0.3333333333333333,
              "#9c179e"
             ],
             [
              0.4444444444444444,
              "#bd3786"
             ],
             [
              0.5555555555555556,
              "#d8576b"
             ],
             [
              0.6666666666666666,
              "#ed7953"
             ],
             [
              0.7777777777777778,
              "#fb9f3a"
             ],
             [
              0.8888888888888888,
              "#fdca26"
             ],
             [
              1,
              "#f0f921"
             ]
            ],
            "type": "histogram2dcontour"
           }
          ],
          "mesh3d": [
           {
            "colorbar": {
             "outlinewidth": 0,
             "ticks": ""
            },
            "type": "mesh3d"
           }
          ],
          "parcoords": [
           {
            "line": {
             "colorbar": {
              "outlinewidth": 0,
              "ticks": ""
             }
            },
            "type": "parcoords"
           }
          ],
          "pie": [
           {
            "automargin": true,
            "type": "pie"
           }
          ],
          "scatter": [
           {
            "fillpattern": {
             "fillmode": "overlay",
             "size": 10,
             "solidity": 0.2
            },
            "type": "scatter"
           }
          ],
          "scatter3d": [
           {
            "line": {
             "colorbar": {
              "outlinewidth": 0,
              "ticks": ""
             }
            },
            "marker": {
             "colorbar": {
              "outlinewidth": 0,
              "ticks": ""
             }
            },
            "type": "scatter3d"
           }
          ],
          "scattercarpet": [
           {
            "marker": {
             "colorbar": {
              "outlinewidth": 0,
              "ticks": ""
             }
            },
            "type": "scattercarpet"
           }
          ],
          "scattergeo": [
           {
            "marker": {
             "colorbar": {
              "outlinewidth": 0,
              "ticks": ""
             }
            },
            "type": "scattergeo"
           }
          ],
          "scattergl": [
           {
            "marker": {
             "colorbar": {
              "outlinewidth": 0,
              "ticks": ""
             }
            },
            "type": "scattergl"
           }
          ],
          "scattermapbox": [
           {
            "marker": {
             "colorbar": {
              "outlinewidth": 0,
              "ticks": ""
             }
            },
            "type": "scattermapbox"
           }
          ],
          "scatterpolar": [
           {
            "marker": {
             "colorbar": {
              "outlinewidth": 0,
              "ticks": ""
             }
            },
            "type": "scatterpolar"
           }
          ],
          "scatterpolargl": [
           {
            "marker": {
             "colorbar": {
              "outlinewidth": 0,
              "ticks": ""
             }
            },
            "type": "scatterpolargl"
           }
          ],
          "scatterternary": [
           {
            "marker": {
             "colorbar": {
              "outlinewidth": 0,
              "ticks": ""
             }
            },
            "type": "scatterternary"
           }
          ],
          "surface": [
           {
            "colorbar": {
             "outlinewidth": 0,
             "ticks": ""
            },
            "colorscale": [
             [
              0,
              "#0d0887"
             ],
             [
              0.1111111111111111,
              "#46039f"
             ],
             [
              0.2222222222222222,
              "#7201a8"
             ],
             [
              0.3333333333333333,
              "#9c179e"
             ],
             [
              0.4444444444444444,
              "#bd3786"
             ],
             [
              0.5555555555555556,
              "#d8576b"
             ],
             [
              0.6666666666666666,
              "#ed7953"
             ],
             [
              0.7777777777777778,
              "#fb9f3a"
             ],
             [
              0.8888888888888888,
              "#fdca26"
             ],
             [
              1,
              "#f0f921"
             ]
            ],
            "type": "surface"
           }
          ],
          "table": [
           {
            "cells": {
             "fill": {
              "color": "#EBF0F8"
             },
             "line": {
              "color": "white"
             }
            },
            "header": {
             "fill": {
              "color": "#C8D4E3"
             },
             "line": {
              "color": "white"
             }
            },
            "type": "table"
           }
          ]
         },
         "layout": {
          "annotationdefaults": {
           "arrowcolor": "#2a3f5f",
           "arrowhead": 0,
           "arrowwidth": 1
          },
          "autotypenumbers": "strict",
          "coloraxis": {
           "colorbar": {
            "outlinewidth": 0,
            "ticks": ""
           }
          },
          "colorscale": {
           "diverging": [
            [
             0,
             "#8e0152"
            ],
            [
             0.1,
             "#c51b7d"
            ],
            [
             0.2,
             "#de77ae"
            ],
            [
             0.3,
             "#f1b6da"
            ],
            [
             0.4,
             "#fde0ef"
            ],
            [
             0.5,
             "#f7f7f7"
            ],
            [
             0.6,
             "#e6f5d0"
            ],
            [
             0.7,
             "#b8e186"
            ],
            [
             0.8,
             "#7fbc41"
            ],
            [
             0.9,
             "#4d9221"
            ],
            [
             1,
             "#276419"
            ]
           ],
           "sequential": [
            [
             0,
             "#0d0887"
            ],
            [
             0.1111111111111111,
             "#46039f"
            ],
            [
             0.2222222222222222,
             "#7201a8"
            ],
            [
             0.3333333333333333,
             "#9c179e"
            ],
            [
             0.4444444444444444,
             "#bd3786"
            ],
            [
             0.5555555555555556,
             "#d8576b"
            ],
            [
             0.6666666666666666,
             "#ed7953"
            ],
            [
             0.7777777777777778,
             "#fb9f3a"
            ],
            [
             0.8888888888888888,
             "#fdca26"
            ],
            [
             1,
             "#f0f921"
            ]
           ],
           "sequentialminus": [
            [
             0,
             "#0d0887"
            ],
            [
             0.1111111111111111,
             "#46039f"
            ],
            [
             0.2222222222222222,
             "#7201a8"
            ],
            [
             0.3333333333333333,
             "#9c179e"
            ],
            [
             0.4444444444444444,
             "#bd3786"
            ],
            [
             0.5555555555555556,
             "#d8576b"
            ],
            [
             0.6666666666666666,
             "#ed7953"
            ],
            [
             0.7777777777777778,
             "#fb9f3a"
            ],
            [
             0.8888888888888888,
             "#fdca26"
            ],
            [
             1,
             "#f0f921"
            ]
           ]
          },
          "colorway": [
           "#636efa",
           "#EF553B",
           "#00cc96",
           "#ab63fa",
           "#FFA15A",
           "#19d3f3",
           "#FF6692",
           "#B6E880",
           "#FF97FF",
           "#FECB52"
          ],
          "font": {
           "color": "#2a3f5f"
          },
          "geo": {
           "bgcolor": "white",
           "lakecolor": "white",
           "landcolor": "#E5ECF6",
           "showlakes": true,
           "showland": true,
           "subunitcolor": "white"
          },
          "hoverlabel": {
           "align": "left"
          },
          "hovermode": "closest",
          "mapbox": {
           "style": "light"
          },
          "paper_bgcolor": "white",
          "plot_bgcolor": "#E5ECF6",
          "polar": {
           "angularaxis": {
            "gridcolor": "white",
            "linecolor": "white",
            "ticks": ""
           },
           "bgcolor": "#E5ECF6",
           "radialaxis": {
            "gridcolor": "white",
            "linecolor": "white",
            "ticks": ""
           }
          },
          "scene": {
           "xaxis": {
            "backgroundcolor": "#E5ECF6",
            "gridcolor": "white",
            "gridwidth": 2,
            "linecolor": "white",
            "showbackground": true,
            "ticks": "",
            "zerolinecolor": "white"
           },
           "yaxis": {
            "backgroundcolor": "#E5ECF6",
            "gridcolor": "white",
            "gridwidth": 2,
            "linecolor": "white",
            "showbackground": true,
            "ticks": "",
            "zerolinecolor": "white"
           },
           "zaxis": {
            "backgroundcolor": "#E5ECF6",
            "gridcolor": "white",
            "gridwidth": 2,
            "linecolor": "white",
            "showbackground": true,
            "ticks": "",
            "zerolinecolor": "white"
           }
          },
          "shapedefaults": {
           "line": {
            "color": "#2a3f5f"
           }
          },
          "ternary": {
           "aaxis": {
            "gridcolor": "white",
            "linecolor": "white",
            "ticks": ""
           },
           "baxis": {
            "gridcolor": "white",
            "linecolor": "white",
            "ticks": ""
           },
           "bgcolor": "#E5ECF6",
           "caxis": {
            "gridcolor": "white",
            "linecolor": "white",
            "ticks": ""
           }
          },
          "title": {
           "x": 0.05
          },
          "xaxis": {
           "automargin": true,
           "gridcolor": "white",
           "linecolor": "white",
           "ticks": "",
           "title": {
            "standoff": 15
           },
           "zerolinecolor": "white",
           "zerolinewidth": 2
          },
          "yaxis": {
           "automargin": true,
           "gridcolor": "white",
           "linecolor": "white",
           "ticks": "",
           "title": {
            "standoff": 15
           },
           "zerolinecolor": "white",
           "zerolinewidth": 2
          }
         }
        },
        "title": {
         "text": "Topic Overlap Visualization with Color Coding and Top 30 Words in Legend"
        },
        "width": 600,
        "xaxis": {
         "showgrid": false,
         "zeroline": false
        },
        "yaxis": {
         "showgrid": false,
         "zeroline": false
        }
       }
      }
     },
     "metadata": {},
     "output_type": "display_data"
    }
   ],
   "source": [
    "# Function to calculate the overlap between topics\n",
    "def get_topic_overlap(lda, tfidf_vectorizer, num_topics):\n",
    "    words = np.array(tfidf_vectorizer.get_feature_names_out())\n",
    "    topic_vectors = []\n",
    "\n",
    "    # Construct topic vectors using the highest-weighted words\n",
    "    for topic in lda.components_:\n",
    "        topic_vector = np.zeros(len(words))\n",
    "        for idx in topic.argsort()[-10:]:  # Top 10 words for each topic\n",
    "            topic_vector[idx] = topic[idx]\n",
    "        topic_vectors.append(topic_vector)\n",
    "\n",
    "    similarity_matrix = cosine_similarity(topic_vectors)\n",
    "    return similarity_matrix, words\n",
    "\n",
    "# Calculate the topic similarity and get the words\n",
    "similarity_matrix, words = get_topic_overlap(lda, tfidf_vectorizer, num_topics)\n",
    "\n",
    "# Create a dataframe to hold the x and y coordinates for the circles\n",
    "topic_positions = np.random.rand(num_topics, 2)  # Random initial positions for topics\n",
    "\n",
    "# Create the plotly figure\n",
    "fig = go.Figure()\n",
    "\n",
    "# Add circles for each topic with distinct colors\n",
    "for i in range(num_topics):\n",
    "    # Use a random position for each circle\n",
    "    x_pos, y_pos = topic_positions[i]\n",
    "\n",
    "    # Add the circle for the current topic with a specific color\n",
    "    fig.add_trace(go.Scatter(\n",
    "        x=[x_pos], y=[y_pos], mode=\"markers\", marker=dict(\n",
    "            size=90, opacity=0.6, line=dict(width=2, color=\"black\"),\n",
    "            symbol=\"circle\", color=color_sequence[i], sizemode=\"diameter\"),\n",
    "        name=f\"Topic {i + 1}\"\n",
    "    ))\n",
    "\n",
    "    # Get the top 30 words for the current topic\n",
    "    top_words = [words[idx] for idx in lda.components_[i].argsort()[-30:]]\n",
    "\n",
    "    # Add the topic name with top words to the legend (display only the name)\n",
    "    fig.add_trace(go.Scatter(\n",
    "        x=[None], y=[None], mode=\"text\", text=[f\"Topic {i + 1}: \" + ', '.join(top_words)],\n",
    "        showlegend=True, name=f\"Topic {i + 1}\"\n",
    "    ))\n",
    "\n",
    "# Overlay the circles based on similarity\n",
    "for i in range(num_topics):\n",
    "    for j in range(i + 1, num_topics):\n",
    "        similarity_score = similarity_matrix[i, j]\n",
    "\n",
    "        if similarity_score > 0.5:  # Only draw lines for significant overlaps\n",
    "\n",
    "            # Calculate the overlap based on the similarity score\n",
    "            x_overlap = [topic_positions[i][0], topic_positions[j][0]]\n",
    "            y_overlap = [topic_positions[i][1], topic_positions[j][1]]\n",
    "\n",
    "            # Draw a line (representing overlap) between the topics\n",
    "            fig.add_trace(go.Scatter(\n",
    "                x=x_overlap, y=y_overlap, mode='lines', line=dict(width=2, color=\"black\"),\n",
    "                opacity=similarity_score, showlegend=False\n",
    "            ))\n",
    "\n",
    "# Set layout to make it more readable and reduce the size of the plot\n",
    "fig.update_layout(\n",
    "    title=\"Topic Overlap Visualization with Color Coding and Top 30 Words in Legend\",\n",
    "    xaxis=dict(showgrid=False, zeroline=False),\n",
    "    yaxis=dict(showgrid=False, zeroline=False),\n",
    "    showlegend=True,\n",
    "    plot_bgcolor=\"white\",\n",
    "    width=600,\n",
    "    height=600\n",
    ")\n",
    "\n",
    "fig.show()\n"
   ]
  },
  {
   "cell_type": "code",
   "execution_count": null,
   "metadata": {
    "colab": {
     "base_uri": "https://localhost:8080/",
     "height": 1000
    },
    "executionInfo": {
     "elapsed": 1151,
     "status": "ok",
     "timestamp": 1737854513938,
     "user": {
      "displayName": "Yuri Kobuki",
      "userId": "11061684448908874128"
     },
     "user_tz": 0
    },
    "id": "FD3O77QkrAzE",
    "outputId": "d3b8e3d9-2dc1-4383-922b-8364331427c3"
   },
   "outputs": [
    {
     "name": "stdout",
     "output_type": "stream",
     "text": [
      "Topic 1: assay, test, pcr, diagnosis, elisa, leptospirosis, vaccine, detection, mat, igm\n",
      "Topic 2: sri, lanka, hantavirus, deer, zealand, cows, farm, bovine, dairy, herds\n",
      "Topic 3: leptospirosis, patients, severe, acute, clinical, case, pulmonary, renal, failure, fever\n",
      "Topic 4: leptospira, interrogans, proteins, protein, pathogenic, leptospiral, host, expression, cells, immune\n",
      "Topic 5: leptospirosis, leptospira, risk, disease, study, cases, animals, dogs, human, factors\n",
      "Topic 6: typhus, diseases, scrub, leptospirosis, health, infections, fever, malaria, india, review\n"
     ]
    },
    {
     "data": {
      "application/vnd.plotly.v1+json": {
       "config": {
        "plotlyServerURL": "https://plot.ly"
       },
       "data": [
        {
         "alignmentgroup": "True",
         "hovertemplate": "Topics=Topic 1<br>Year=%{x}<br>Number of Articles=%{y}<extra></extra>",
         "legendgroup": "Topic 1",
         "marker": {
          "color": "#b4a7d6",
          "pattern": {
           "shape": ""
          }
         },
         "name": "Topic 1: assay, test, pcr, diagnosis, elisa, leptospirosis, vaccine, detection, mat, igm",
         "offsetgroup": "Topic 1",
         "orientation": "v",
         "showlegend": true,
         "textposition": "auto",
         "type": "bar",
         "x": [
          1944,
          1945,
          1960,
          1961,
          1963,
          1964,
          1970,
          1976,
          1977,
          1981,
          1982,
          1984,
          1985,
          1986,
          1987,
          1988,
          1991,
          1992,
          1994,
          1997,
          1998,
          1999,
          2000,
          2001,
          2002,
          2003,
          2004,
          2005,
          2006,
          2007,
          2008,
          2009,
          2010,
          2011,
          2012,
          2013,
          2014,
          2015,
          2016,
          2017,
          2018,
          2019,
          2020,
          2021,
          2022,
          2023,
          2024
         ],
         "xaxis": "x",
         "y": [
          0.027813796251794434,
          0.15772020641106346,
          0.05411428230689417,
          0.10704975114735843,
          0.028294834060361856,
          0.8941540572938127,
          0.13344810430406917,
          0.06635263749653997,
          0.032055930941122295,
          0.029500893691534923,
          0.345783253743973,
          0.04180685803497375,
          0.3685801672816731,
          0.12108585906745646,
          0.46484115675482107,
          0.050592255511472874,
          0.021366350490935906,
          0.3652147586374907,
          0.029134843883855236,
          1.3219730304898833,
          1.5833956756494043,
          2.0032666653056665,
          10.96138368455633,
          9.573057725590342,
          12.359492567516371,
          11.98641802265515,
          17.008704970064002,
          16.130710967879576,
          16.563854239950977,
          19.94210427853374,
          18.479797309983294,
          14.472414727395837,
          16.864109273558057,
          21.108403331644432,
          21.710176131843983,
          26.016957158819704,
          29.44116740102524,
          22.479642446136967,
          21.96423856055403,
          16.606787645563905,
          26.43567939067692,
          19.7775043601692,
          20.47346751248144,
          27.23739614104795,
          26.0772359578467,
          18.430145905985256,
          0.032980209970734656
         ],
         "yaxis": "y"
        },
        {
         "alignmentgroup": "True",
         "hovertemplate": "Topics=Topic 2<br>Year=%{x}<br>Number of Articles=%{y}<extra></extra>",
         "legendgroup": "Topic 2",
         "marker": {
          "color": "#c27ba0",
          "pattern": {
           "shape": ""
          }
         },
         "name": "Topic 2: sri, lanka, hantavirus, deer, zealand, cows, farm, bovine, dairy, herds",
         "offsetgroup": "Topic 2",
         "orientation": "v",
         "showlegend": true,
         "textposition": "auto",
         "type": "bar",
         "x": [
          1944,
          1945,
          1960,
          1961,
          1963,
          1964,
          1970,
          1976,
          1977,
          1981,
          1982,
          1984,
          1985,
          1986,
          1987,
          1988,
          1991,
          1992,
          1994,
          1997,
          1998,
          1999,
          2000,
          2001,
          2002,
          2003,
          2004,
          2005,
          2006,
          2007,
          2008,
          2009,
          2010,
          2011,
          2012,
          2013,
          2014,
          2015,
          2016,
          2017,
          2018,
          2019,
          2020,
          2021,
          2022,
          2023,
          2024
         ],
         "xaxis": "x",
         "y": [
          0.027519925630756725,
          0.03095065201145935,
          0.053396404095161366,
          0.10639025621977907,
          0.028103031020181763,
          0.05433083025831752,
          0.13202873600870604,
          0.06597218598352259,
          0.03273599351012085,
          0.029394292182125692,
          0.10032279377192493,
          0.040954435261170506,
          0.1021300765451263,
          0.121461160279169,
          0.023283815699801882,
          0.05026947299970047,
          0.021042593966605454,
          0.03232884840008356,
          0.028925383589114086,
          0.08027120135755618,
          0.4357100266182181,
          0.5065279592564674,
          1.7532461323591482,
          1.3434206677107725,
          1.9334672375578181,
          2.1830470363917054,
          2.176211248859725,
          2.570474207227687,
          2.477988096547681,
          2.876889984256579,
          3.4134035174348183,
          3.0898990063688543,
          4.52212005097267,
          4.951138643359042,
          4.344501442593651,
          4.329559545013127,
          6.729555980980495,
          5.559577583267383,
          5.07471877503212,
          4.032029521048145,
          5.824292438470424,
          5.746677098292474,
          6.385666818777761,
          7.3604197745236295,
          6.366128376158324,
          4.980207520187709,
          0.03265744594528247
         ],
         "yaxis": "y"
        },
        {
         "alignmentgroup": "True",
         "hovertemplate": "Topics=Topic 3<br>Year=%{x}<br>Number of Articles=%{y}<extra></extra>",
         "legendgroup": "Topic 3",
         "marker": {
          "color": "#9fc5e8",
          "pattern": {
           "shape": ""
          }
         },
         "name": "Topic 3: leptospirosis, patients, severe, acute, clinical, case, pulmonary, renal, failure, fever",
         "offsetgroup": "Topic 3",
         "orientation": "v",
         "showlegend": true,
         "textposition": "auto",
         "type": "bar",
         "x": [
          1944,
          1945,
          1960,
          1961,
          1963,
          1964,
          1970,
          1976,
          1977,
          1981,
          1982,
          1984,
          1985,
          1986,
          1987,
          1988,
          1991,
          1992,
          1994,
          1997,
          1998,
          1999,
          2000,
          2001,
          2002,
          2003,
          2004,
          2005,
          2006,
          2007,
          2008,
          2009,
          2010,
          2011,
          2012,
          2013,
          2014,
          2015,
          2016,
          2017,
          2018,
          2019,
          2020,
          2021,
          2022,
          2023,
          2024
         ],
         "xaxis": "x",
         "y": [
          0.0280851023708047,
          0.03218275682814033,
          0.5655661713428111,
          0.10804066931042637,
          0.43683159415521594,
          0.055506868206059795,
          0.13620500328488344,
          0.06648275434380624,
          0.031942790889268755,
          0.02971282901663395,
          0.09993319551855516,
          0.041418865768669176,
          0.10476050815494675,
          0.7784876659010206,
          0.023446817261746234,
          0.05073962472718811,
          0.023918141967583607,
          0.03288184689710968,
          0.0292320579462364,
          0.4830178514118421,
          0.13291934939281164,
          5.226465883408368,
          21.271881689472064,
          15.333172179044283,
          21.59251165346695,
          26.87659080102203,
          23.784438838502012,
          26.207161658769717,
          22.50453679056483,
          28.76289624135553,
          28.000039360732682,
          26.807777978904188,
          35.46001189295968,
          28.25718130350252,
          32.04346535464942,
          32.19489596739017,
          50.42155505946629,
          36.521594073750514,
          29.957815578547656,
          24.127764412520374,
          31.95349359607373,
          42.21067502786923,
          42.282161756280615,
          52.339037645145595,
          37.192859443797424,
          47.34133953865438,
          0.033829358298250636
         ],
         "yaxis": "y"
        },
        {
         "alignmentgroup": "True",
         "hovertemplate": "Topics=Topic 4<br>Year=%{x}<br>Number of Articles=%{y}<extra></extra>",
         "legendgroup": "Topic 4",
         "marker": {
          "color": "#b6d7a8",
          "pattern": {
           "shape": ""
          }
         },
         "name": "Topic 4: leptospira, interrogans, proteins, protein, pathogenic, leptospiral, host, expression, cells, immune",
         "offsetgroup": "Topic 4",
         "orientation": "v",
         "showlegend": true,
         "textposition": "auto",
         "type": "bar",
         "x": [
          1944,
          1945,
          1960,
          1961,
          1963,
          1964,
          1970,
          1976,
          1977,
          1981,
          1982,
          1984,
          1985,
          1986,
          1987,
          1988,
          1991,
          1992,
          1994,
          1997,
          1998,
          1999,
          2000,
          2001,
          2002,
          2003,
          2004,
          2005,
          2006,
          2007,
          2008,
          2009,
          2010,
          2011,
          2012,
          2013,
          2014,
          2015,
          2016,
          2017,
          2018,
          2019,
          2020,
          2021,
          2022,
          2023,
          2024
         ],
         "xaxis": "x",
         "y": [
          0.19928125488244613,
          0.7168004561128704,
          0.0537645331014605,
          0.3413077648451237,
          0.4502046302656839,
          0.05479787132326211,
          1.7371181943631293,
          0.06707719417400232,
          0.03184170299529967,
          0.029474904689209522,
          0.0995406998333913,
          0.041985492924394456,
          0.12099772063220789,
          0.12072549067008138,
          0.023613735828270532,
          0.05047269637959144,
          0.02122250810743937,
          0.032600887216902734,
          0.029142306355559647,
          0.5212432201134053,
          1.1337720852340778,
          3.0626804428395205,
          7.944090815386375,
          7.203027784340282,
          6.576717371455364,
          7.295356518706887,
          9.517272515322274,
          13.361515951195644,
          13.89229146786918,
          15.384951995895367,
          18.608391486908268,
          24.3342494199705,
          28.073145005998242,
          28.750360803049432,
          21.503632428024037,
          22.69614082784669,
          31.804133636261717,
          31.030460492321236,
          27.232958445891786,
          29.066867283959773,
          21.102313357543434,
          22.057542368806633,
          30.174507702475452,
          23.045174750592903,
          24.064041096380976,
          24.875932048206163,
          0.0342245328493824
         ],
         "yaxis": "y"
        },
        {
         "alignmentgroup": "True",
         "hovertemplate": "Topics=Topic 5<br>Year=%{x}<br>Number of Articles=%{y}<extra></extra>",
         "legendgroup": "Topic 5",
         "marker": {
          "color": "#ffd966",
          "pattern": {
           "shape": ""
          }
         },
         "name": "Topic 5: leptospirosis, leptospira, risk, disease, study, cases, animals, dogs, human, factors",
         "offsetgroup": "Topic 5",
         "orientation": "v",
         "showlegend": true,
         "textposition": "auto",
         "type": "bar",
         "x": [
          1944,
          1945,
          1960,
          1961,
          1963,
          1964,
          1970,
          1976,
          1977,
          1981,
          1982,
          1984,
          1985,
          1986,
          1987,
          1988,
          1991,
          1992,
          1994,
          1997,
          1998,
          1999,
          2000,
          2001,
          2002,
          2003,
          2004,
          2005,
          2006,
          2007,
          2008,
          2009,
          2010,
          2011,
          2012,
          2013,
          2014,
          2015,
          2016,
          2017,
          2018,
          2019,
          2020,
          2021,
          2022,
          2023,
          2024
         ],
         "xaxis": "x",
         "y": [
          0.6896719914336467,
          0.03125066714350076,
          1.2193103866558366,
          3.1777898383447707,
          0.028350186717743406,
          0.8867845525542399,
          1.728610387962945,
          1.667943602901504,
          0.8395828523803869,
          0.8523635117210812,
          3.2549032039227557,
          1.7928888128133322,
          3.201328455668844,
          2.0018643865412504,
          0.4414714587606897,
          1.7473312561510785,
          0.8913855104902054,
          0.5045115407588706,
          0.8545114193551597,
          0.5123207528433519,
          0.5809305689471373,
          5.691585254820253,
          18.20209500714984,
          15.04444272215831,
          25.710390093851196,
          24.563162480917036,
          19.739289442006907,
          30.621384796235397,
          29.22940389027427,
          28.100862088156344,
          43.582177785960326,
          32.149843767660684,
          44.81352489101225,
          44.39296656906897,
          51.93986227768497,
          63.548078070857855,
          81.98144934127764,
          69.30240587205068,
          63.18761866237211,
          67.64511739223575,
          91.2833832916691,
          78.31502632741545,
          91.17640476259544,
          79.79401431956734,
          100.7748721654456,
          63.841800436394394,
          0.8335451052259686
         ],
         "yaxis": "y"
        },
        {
         "alignmentgroup": "True",
         "hovertemplate": "Topics=Topic 6<br>Year=%{x}<br>Number of Articles=%{y}<extra></extra>",
         "legendgroup": "Topic 6",
         "marker": {
          "color": "#f4cccc",
          "pattern": {
           "shape": ""
          }
         },
         "name": "Topic 6: typhus, diseases, scrub, leptospirosis, health, infections, fever, malaria, india, review",
         "offsetgroup": "Topic 6",
         "orientation": "v",
         "showlegend": true,
         "textposition": "auto",
         "type": "bar",
         "x": [
          1944,
          1945,
          1960,
          1961,
          1963,
          1964,
          1970,
          1976,
          1977,
          1981,
          1982,
          1984,
          1985,
          1986,
          1987,
          1988,
          1991,
          1992,
          1994,
          1997,
          1998,
          1999,
          2000,
          2001,
          2002,
          2003,
          2004,
          2005,
          2006,
          2007,
          2008,
          2009,
          2010,
          2011,
          2012,
          2013,
          2014,
          2015,
          2016,
          2017,
          2018,
          2019,
          2020,
          2021,
          2022,
          2023,
          2024
         ],
         "xaxis": "x",
         "y": [
          0.02762792943055125,
          0.031095261492965594,
          0.05384822249783638,
          0.15942172013254172,
          0.028215723780813138,
          0.05442582036430814,
          0.13258957407626693,
          0.06617162510062491,
          0.03184072928380146,
          0.02955356869941479,
          0.09951685320940018,
          0.04094553519745995,
          0.10220307171720151,
          0.8563754375410219,
          0.023343015694670524,
          0.050594694230968365,
          0.02106489497723031,
          0.03246211808954274,
          0.029053988870074904,
          0.08117394378396108,
          0.13327229415835054,
          0.5094737943697243,
          3.867302671076241,
          2.502878921156009,
          2.8274210761523006,
          4.09542514030719,
          4.774082985245084,
          5.108752418691981,
          6.331925514793061,
          4.932295411802438,
          7.9161905389806115,
          7.145815099699937,
          10.267088885499104,
          10.539949349375613,
          11.458362365203932,
          13.214368430072458,
          19.62213858098861,
          19.10631953247322,
          11.582649977602301,
          10.521433744672056,
          15.400837925566398,
          13.892574817447016,
          11.507791447389295,
          17.223957369122587,
          19.52486296037097,
          17.5305745505721,
          0.03276334771038112
         ],
         "yaxis": "y"
        }
       ],
       "layout": {
        "barmode": "stack",
        "height": 600,
        "hovermode": "x unified",
        "legend": {
         "title": {
          "text": "Topics"
         },
         "tracegroupgap": 0,
         "xanchor": "center",
         "yanchor": "bottom"
        },
        "template": {
         "data": {
          "bar": [
           {
            "error_x": {
             "color": "#2a3f5f"
            },
            "error_y": {
             "color": "#2a3f5f"
            },
            "marker": {
             "line": {
              "color": "white",
              "width": 0.5
             },
             "pattern": {
              "fillmode": "overlay",
              "size": 10,
              "solidity": 0.2
             }
            },
            "type": "bar"
           }
          ],
          "barpolar": [
           {
            "marker": {
             "line": {
              "color": "white",
              "width": 0.5
             },
             "pattern": {
              "fillmode": "overlay",
              "size": 10,
              "solidity": 0.2
             }
            },
            "type": "barpolar"
           }
          ],
          "carpet": [
           {
            "aaxis": {
             "endlinecolor": "#2a3f5f",
             "gridcolor": "#C8D4E3",
             "linecolor": "#C8D4E3",
             "minorgridcolor": "#C8D4E3",
             "startlinecolor": "#2a3f5f"
            },
            "baxis": {
             "endlinecolor": "#2a3f5f",
             "gridcolor": "#C8D4E3",
             "linecolor": "#C8D4E3",
             "minorgridcolor": "#C8D4E3",
             "startlinecolor": "#2a3f5f"
            },
            "type": "carpet"
           }
          ],
          "choropleth": [
           {
            "colorbar": {
             "outlinewidth": 0,
             "ticks": ""
            },
            "type": "choropleth"
           }
          ],
          "contour": [
           {
            "colorbar": {
             "outlinewidth": 0,
             "ticks": ""
            },
            "colorscale": [
             [
              0,
              "#0d0887"
             ],
             [
              0.1111111111111111,
              "#46039f"
             ],
             [
              0.2222222222222222,
              "#7201a8"
             ],
             [
              0.3333333333333333,
              "#9c179e"
             ],
             [
              0.4444444444444444,
              "#bd3786"
             ],
             [
              0.5555555555555556,
              "#d8576b"
             ],
             [
              0.6666666666666666,
              "#ed7953"
             ],
             [
              0.7777777777777778,
              "#fb9f3a"
             ],
             [
              0.8888888888888888,
              "#fdca26"
             ],
             [
              1,
              "#f0f921"
             ]
            ],
            "type": "contour"
           }
          ],
          "contourcarpet": [
           {
            "colorbar": {
             "outlinewidth": 0,
             "ticks": ""
            },
            "type": "contourcarpet"
           }
          ],
          "heatmap": [
           {
            "colorbar": {
             "outlinewidth": 0,
             "ticks": ""
            },
            "colorscale": [
             [
              0,
              "#0d0887"
             ],
             [
              0.1111111111111111,
              "#46039f"
             ],
             [
              0.2222222222222222,
              "#7201a8"
             ],
             [
              0.3333333333333333,
              "#9c179e"
             ],
             [
              0.4444444444444444,
              "#bd3786"
             ],
             [
              0.5555555555555556,
              "#d8576b"
             ],
             [
              0.6666666666666666,
              "#ed7953"
             ],
             [
              0.7777777777777778,
              "#fb9f3a"
             ],
             [
              0.8888888888888888,
              "#fdca26"
             ],
             [
              1,
              "#f0f921"
             ]
            ],
            "type": "heatmap"
           }
          ],
          "heatmapgl": [
           {
            "colorbar": {
             "outlinewidth": 0,
             "ticks": ""
            },
            "colorscale": [
             [
              0,
              "#0d0887"
             ],
             [
              0.1111111111111111,
              "#46039f"
             ],
             [
              0.2222222222222222,
              "#7201a8"
             ],
             [
              0.3333333333333333,
              "#9c179e"
             ],
             [
              0.4444444444444444,
              "#bd3786"
             ],
             [
              0.5555555555555556,
              "#d8576b"
             ],
             [
              0.6666666666666666,
              "#ed7953"
             ],
             [
              0.7777777777777778,
              "#fb9f3a"
             ],
             [
              0.8888888888888888,
              "#fdca26"
             ],
             [
              1,
              "#f0f921"
             ]
            ],
            "type": "heatmapgl"
           }
          ],
          "histogram": [
           {
            "marker": {
             "pattern": {
              "fillmode": "overlay",
              "size": 10,
              "solidity": 0.2
             }
            },
            "type": "histogram"
           }
          ],
          "histogram2d": [
           {
            "colorbar": {
             "outlinewidth": 0,
             "ticks": ""
            },
            "colorscale": [
             [
              0,
              "#0d0887"
             ],
             [
              0.1111111111111111,
              "#46039f"
             ],
             [
              0.2222222222222222,
              "#7201a8"
             ],
             [
              0.3333333333333333,
              "#9c179e"
             ],
             [
              0.4444444444444444,
              "#bd3786"
             ],
             [
              0.5555555555555556,
              "#d8576b"
             ],
             [
              0.6666666666666666,
              "#ed7953"
             ],
             [
              0.7777777777777778,
              "#fb9f3a"
             ],
             [
              0.8888888888888888,
              "#fdca26"
             ],
             [
              1,
              "#f0f921"
             ]
            ],
            "type": "histogram2d"
           }
          ],
          "histogram2dcontour": [
           {
            "colorbar": {
             "outlinewidth": 0,
             "ticks": ""
            },
            "colorscale": [
             [
              0,
              "#0d0887"
             ],
             [
              0.1111111111111111,
              "#46039f"
             ],
             [
              0.2222222222222222,
              "#7201a8"
             ],
             [
              0.3333333333333333,
              "#9c179e"
             ],
             [
              0.4444444444444444,
              "#bd3786"
             ],
             [
              0.5555555555555556,
              "#d8576b"
             ],
             [
              0.6666666666666666,
              "#ed7953"
             ],
             [
              0.7777777777777778,
              "#fb9f3a"
             ],
             [
              0.8888888888888888,
              "#fdca26"
             ],
             [
              1,
              "#f0f921"
             ]
            ],
            "type": "histogram2dcontour"
           }
          ],
          "mesh3d": [
           {
            "colorbar": {
             "outlinewidth": 0,
             "ticks": ""
            },
            "type": "mesh3d"
           }
          ],
          "parcoords": [
           {
            "line": {
             "colorbar": {
              "outlinewidth": 0,
              "ticks": ""
             }
            },
            "type": "parcoords"
           }
          ],
          "pie": [
           {
            "automargin": true,
            "type": "pie"
           }
          ],
          "scatter": [
           {
            "fillpattern": {
             "fillmode": "overlay",
             "size": 10,
             "solidity": 0.2
            },
            "type": "scatter"
           }
          ],
          "scatter3d": [
           {
            "line": {
             "colorbar": {
              "outlinewidth": 0,
              "ticks": ""
             }
            },
            "marker": {
             "colorbar": {
              "outlinewidth": 0,
              "ticks": ""
             }
            },
            "type": "scatter3d"
           }
          ],
          "scattercarpet": [
           {
            "marker": {
             "colorbar": {
              "outlinewidth": 0,
              "ticks": ""
             }
            },
            "type": "scattercarpet"
           }
          ],
          "scattergeo": [
           {
            "marker": {
             "colorbar": {
              "outlinewidth": 0,
              "ticks": ""
             }
            },
            "type": "scattergeo"
           }
          ],
          "scattergl": [
           {
            "marker": {
             "colorbar": {
              "outlinewidth": 0,
              "ticks": ""
             }
            },
            "type": "scattergl"
           }
          ],
          "scattermapbox": [
           {
            "marker": {
             "colorbar": {
              "outlinewidth": 0,
              "ticks": ""
             }
            },
            "type": "scattermapbox"
           }
          ],
          "scatterpolar": [
           {
            "marker": {
             "colorbar": {
              "outlinewidth": 0,
              "ticks": ""
             }
            },
            "type": "scatterpolar"
           }
          ],
          "scatterpolargl": [
           {
            "marker": {
             "colorbar": {
              "outlinewidth": 0,
              "ticks": ""
             }
            },
            "type": "scatterpolargl"
           }
          ],
          "scatterternary": [
           {
            "marker": {
             "colorbar": {
              "outlinewidth": 0,
              "ticks": ""
             }
            },
            "type": "scatterternary"
           }
          ],
          "surface": [
           {
            "colorbar": {
             "outlinewidth": 0,
             "ticks": ""
            },
            "colorscale": [
             [
              0,
              "#0d0887"
             ],
             [
              0.1111111111111111,
              "#46039f"
             ],
             [
              0.2222222222222222,
              "#7201a8"
             ],
             [
              0.3333333333333333,
              "#9c179e"
             ],
             [
              0.4444444444444444,
              "#bd3786"
             ],
             [
              0.5555555555555556,
              "#d8576b"
             ],
             [
              0.6666666666666666,
              "#ed7953"
             ],
             [
              0.7777777777777778,
              "#fb9f3a"
             ],
             [
              0.8888888888888888,
              "#fdca26"
             ],
             [
              1,
              "#f0f921"
             ]
            ],
            "type": "surface"
           }
          ],
          "table": [
           {
            "cells": {
             "fill": {
              "color": "#EBF0F8"
             },
             "line": {
              "color": "white"
             }
            },
            "header": {
             "fill": {
              "color": "#C8D4E3"
             },
             "line": {
              "color": "white"
             }
            },
            "type": "table"
           }
          ]
         },
         "layout": {
          "annotationdefaults": {
           "arrowcolor": "#2a3f5f",
           "arrowhead": 0,
           "arrowwidth": 1
          },
          "autotypenumbers": "strict",
          "coloraxis": {
           "colorbar": {
            "outlinewidth": 0,
            "ticks": ""
           }
          },
          "colorscale": {
           "diverging": [
            [
             0,
             "#8e0152"
            ],
            [
             0.1,
             "#c51b7d"
            ],
            [
             0.2,
             "#de77ae"
            ],
            [
             0.3,
             "#f1b6da"
            ],
            [
             0.4,
             "#fde0ef"
            ],
            [
             0.5,
             "#f7f7f7"
            ],
            [
             0.6,
             "#e6f5d0"
            ],
            [
             0.7,
             "#b8e186"
            ],
            [
             0.8,
             "#7fbc41"
            ],
            [
             0.9,
             "#4d9221"
            ],
            [
             1,
             "#276419"
            ]
           ],
           "sequential": [
            [
             0,
             "#0d0887"
            ],
            [
             0.1111111111111111,
             "#46039f"
            ],
            [
             0.2222222222222222,
             "#7201a8"
            ],
            [
             0.3333333333333333,
             "#9c179e"
            ],
            [
             0.4444444444444444,
             "#bd3786"
            ],
            [
             0.5555555555555556,
             "#d8576b"
            ],
            [
             0.6666666666666666,
             "#ed7953"
            ],
            [
             0.7777777777777778,
             "#fb9f3a"
            ],
            [
             0.8888888888888888,
             "#fdca26"
            ],
            [
             1,
             "#f0f921"
            ]
           ],
           "sequentialminus": [
            [
             0,
             "#0d0887"
            ],
            [
             0.1111111111111111,
             "#46039f"
            ],
            [
             0.2222222222222222,
             "#7201a8"
            ],
            [
             0.3333333333333333,
             "#9c179e"
            ],
            [
             0.4444444444444444,
             "#bd3786"
            ],
            [
             0.5555555555555556,
             "#d8576b"
            ],
            [
             0.6666666666666666,
             "#ed7953"
            ],
            [
             0.7777777777777778,
             "#fb9f3a"
            ],
            [
             0.8888888888888888,
             "#fdca26"
            ],
            [
             1,
             "#f0f921"
            ]
           ]
          },
          "colorway": [
           "#636efa",
           "#EF553B",
           "#00cc96",
           "#ab63fa",
           "#FFA15A",
           "#19d3f3",
           "#FF6692",
           "#B6E880",
           "#FF97FF",
           "#FECB52"
          ],
          "font": {
           "color": "#2a3f5f"
          },
          "geo": {
           "bgcolor": "white",
           "lakecolor": "white",
           "landcolor": "white",
           "showlakes": true,
           "showland": true,
           "subunitcolor": "#C8D4E3"
          },
          "hoverlabel": {
           "align": "left"
          },
          "hovermode": "closest",
          "mapbox": {
           "style": "light"
          },
          "paper_bgcolor": "white",
          "plot_bgcolor": "white",
          "polar": {
           "angularaxis": {
            "gridcolor": "#EBF0F8",
            "linecolor": "#EBF0F8",
            "ticks": ""
           },
           "bgcolor": "white",
           "radialaxis": {
            "gridcolor": "#EBF0F8",
            "linecolor": "#EBF0F8",
            "ticks": ""
           }
          },
          "scene": {
           "xaxis": {
            "backgroundcolor": "white",
            "gridcolor": "#DFE8F3",
            "gridwidth": 2,
            "linecolor": "#EBF0F8",
            "showbackground": true,
            "ticks": "",
            "zerolinecolor": "#EBF0F8"
           },
           "yaxis": {
            "backgroundcolor": "white",
            "gridcolor": "#DFE8F3",
            "gridwidth": 2,
            "linecolor": "#EBF0F8",
            "showbackground": true,
            "ticks": "",
            "zerolinecolor": "#EBF0F8"
           },
           "zaxis": {
            "backgroundcolor": "white",
            "gridcolor": "#DFE8F3",
            "gridwidth": 2,
            "linecolor": "#EBF0F8",
            "showbackground": true,
            "ticks": "",
            "zerolinecolor": "#EBF0F8"
           }
          },
          "shapedefaults": {
           "line": {
            "color": "#2a3f5f"
           }
          },
          "ternary": {
           "aaxis": {
            "gridcolor": "#DFE8F3",
            "linecolor": "#A2B1C6",
            "ticks": ""
           },
           "baxis": {
            "gridcolor": "#DFE8F3",
            "linecolor": "#A2B1C6",
            "ticks": ""
           },
           "bgcolor": "white",
           "caxis": {
            "gridcolor": "#DFE8F3",
            "linecolor": "#A2B1C6",
            "ticks": ""
           }
          },
          "title": {
           "x": 0.05
          },
          "xaxis": {
           "automargin": true,
           "gridcolor": "#EBF0F8",
           "linecolor": "#EBF0F8",
           "ticks": "",
           "title": {
            "standoff": 15
           },
           "zerolinecolor": "#EBF0F8",
           "zerolinewidth": 2
          },
          "yaxis": {
           "automargin": true,
           "gridcolor": "#EBF0F8",
           "linecolor": "#EBF0F8",
           "ticks": "",
           "title": {
            "standoff": 15
           },
           "zerolinecolor": "#EBF0F8",
           "zerolinewidth": 2
          }
         }
        },
        "title": {
         "text": "Number of Articles by Topic Over Time"
        },
        "width": 1200,
        "xaxis": {
         "anchor": "y",
         "domain": [
          0,
          1
         ],
         "title": {
          "text": "Year"
         }
        },
        "yaxis": {
         "anchor": "x",
         "domain": [
          0,
          1
         ],
         "title": {
          "text": "Number of Articles"
         }
        }
       }
      }
     },
     "metadata": {},
     "output_type": "display_data"
    },
    {
     "name": "stdout",
     "output_type": "stream",
     "text": [
      "Topic distribution by year:\n",
      "        Topic 1   Topic 2    Topic 3    Topic 4     Topic 5    Topic 6\n",
      "Year                                                                  \n",
      "1944   0.027814  0.027520   0.028085   0.199281    0.689672   0.027628\n",
      "1945   0.157720  0.030951   0.032183   0.716800    0.031251   0.031095\n",
      "1960   0.054114  0.053396   0.565566   0.053765    1.219310   0.053848\n",
      "1961   0.107050  0.106390   0.108041   0.341308    3.177790   0.159422\n",
      "1963   0.028295  0.028103   0.436832   0.450205    0.028350   0.028216\n",
      "1964   0.894154  0.054331   0.055507   0.054798    0.886785   0.054426\n",
      "1970   0.133448  0.132029   0.136205   1.737118    1.728610   0.132590\n",
      "1976   0.066353  0.065972   0.066483   0.067077    1.667944   0.066172\n",
      "1977   0.032056  0.032736   0.031943   0.031842    0.839583   0.031841\n",
      "1981   0.029501  0.029394   0.029713   0.029475    0.852364   0.029554\n",
      "1982   0.345783  0.100323   0.099933   0.099541    3.254903   0.099517\n",
      "1984   0.041807  0.040954   0.041419   0.041985    1.792889   0.040946\n",
      "1985   0.368580  0.102130   0.104761   0.120998    3.201328   0.102203\n",
      "1986   0.121086  0.121461   0.778488   0.120725    2.001864   0.856375\n",
      "1987   0.464841  0.023284   0.023447   0.023614    0.441471   0.023343\n",
      "1988   0.050592  0.050269   0.050740   0.050473    1.747331   0.050595\n",
      "1991   0.021366  0.021043   0.023918   0.021223    0.891386   0.021065\n",
      "1992   0.365215  0.032329   0.032882   0.032601    0.504512   0.032462\n",
      "1994   0.029135  0.028925   0.029232   0.029142    0.854511   0.029054\n",
      "1997   1.321973  0.080271   0.483018   0.521243    0.512321   0.081174\n",
      "1998   1.583396  0.435710   0.132919   1.133772    0.580931   0.133272\n",
      "1999   2.003267  0.506528   5.226466   3.062680    5.691585   0.509474\n",
      "2000  10.961384  1.753246  21.271882   7.944091   18.202095   3.867303\n",
      "2001   9.573058  1.343421  15.333172   7.203028   15.044443   2.502879\n",
      "2002  12.359493  1.933467  21.592512   6.576717   25.710390   2.827421\n",
      "2003  11.986418  2.183047  26.876591   7.295357   24.563162   4.095425\n",
      "2004  17.008705  2.176211  23.784439   9.517273   19.739289   4.774083\n",
      "2005  16.130711  2.570474  26.207162  13.361516   30.621385   5.108752\n",
      "2006  16.563854  2.477988  22.504537  13.892291   29.229404   6.331926\n",
      "2007  19.942104  2.876890  28.762896  15.384952   28.100862   4.932295\n",
      "2008  18.479797  3.413404  28.000039  18.608391   43.582178   7.916191\n",
      "2009  14.472415  3.089899  26.807778  24.334249   32.149844   7.145815\n",
      "2010  16.864109  4.522120  35.460012  28.073145   44.813525  10.267089\n",
      "2011  21.108403  4.951139  28.257181  28.750361   44.392967  10.539949\n",
      "2012  21.710176  4.344501  32.043465  21.503632   51.939862  11.458362\n",
      "2013  26.016957  4.329560  32.194896  22.696141   63.548078  13.214368\n",
      "2014  29.441167  6.729556  50.421555  31.804134   81.981449  19.622139\n",
      "2015  22.479642  5.559578  36.521594  31.030460   69.302406  19.106320\n",
      "2016  21.964239  5.074719  29.957816  27.232958   63.187619  11.582650\n",
      "2017  16.606788  4.032030  24.127764  29.066867   67.645117  10.521434\n",
      "2018  26.435679  5.824292  31.953494  21.102313   91.283383  15.400838\n",
      "2019  19.777504  5.746677  42.210675  22.057542   78.315026  13.892575\n",
      "2020  20.473468  6.385667  42.282162  30.174508   91.176405  11.507791\n",
      "2021  27.237396  7.360420  52.339038  23.045175   79.794014  17.223957\n",
      "2022  26.077236  6.366128  37.192859  24.064041  100.774872  19.524863\n",
      "2023  18.430146  4.980208  47.341340  24.875932   63.841800  17.530575\n",
      "2024   0.032980  0.032657   0.033829   0.034225    0.833545   0.032763\n"
     ]
    }
   ],
   "source": [
    "# Ccolors for the line plot (aligned with year-wise stacked chart)\n",
    "color_sequence = [\n",
    "    '#b4a7d6',  # Light Purple\n",
    "    '#c27ba0',  # Greige (Grayish Beige)\n",
    "    '#9fc5e8',  # Light Blue\n",
    "    '#b6d7a8',  # Light Green\n",
    "    '#ffd966',  # Dark Yellow\n",
    "    '#f4cccc',  # Light Pink\n",
    "    '#ce7e00',  # Dark Brown\n",
    "    '#d9d9d6',  # Light Gray\n",
    "    '#444444',  # Dark Gray\n",
    "    '#a52a2a',  # Brown\n",
    "]\n",
    "\n",
    "# Step 1: Ensure 'PMID' column is string type in both DataFrames\n",
    "authors_df['PMID'] = authors_df['PMID'].astype(str)\n",
    "articles_df['PMID'] = articles_df['PMID'].astype(str)\n",
    "\n",
    "# Step 2: Create a full name for each author\n",
    "authors_df['FullName'] = authors_df['AuthorInitials'].fillna('') + ' ' + authors_df['AuthorLastname'].fillna('')\n",
    "authors_df['FullName'] = authors_df['FullName'].str.strip()  # Remove extra spaces\n",
    "\n",
    "# Step 3: Extracting the top words for each topic\n",
    "feature_names = tfidf_vectorizer.get_feature_names_out()\n",
    "topic_words = []\n",
    "for topic_idx, topic in enumerate(lda.components_):\n",
    "    top_words_idx = topic.argsort()[:-11:-1]  # Get top 10 words for each topic\n",
    "    top_words = [feature_names[i] for i in top_words_idx]\n",
    "    topic_words.append(top_words)\n",
    "\n",
    "# Topic summaries (short descriptions based on top words)\n",
    "topic_summaries = {}\n",
    "for i, words in enumerate(topic_words):\n",
    "    summary = f\"Topic {i+1}: \" + \", \".join(words)  # Create summary from top 10 words\n",
    "    topic_summaries[i] = summary\n",
    "    print(summary)\n",
    "\n",
    "# Step 4: Group the topic distribution by year and calculate the total number of articles per topic per year\n",
    "articles_df['Year'] = articles_df['Year'].astype(int)\n",
    "\n",
    "topic_by_year = pd.DataFrame(topic_distribution, columns=[f'Topic {i+1}' for i in range(lda.n_components)])\n",
    "topic_by_year['Year'] = articles_df['Year']\n",
    "topic_by_year_count = topic_by_year.groupby('Year').sum()  # Total number of articles for each topic per year\n",
    "\n",
    "# Calculate total articles per year\n",
    "total_articles_per_year = topic_by_year_count.sum(axis=1)\n",
    "\n",
    "# Create the bar plot with actual article counts (not proportions)\n",
    "fig = px.bar(\n",
    "    topic_by_year_count,\n",
    "    x=topic_by_year_count.index,\n",
    "    y=topic_by_year_count.columns,\n",
    "    labels={\"x\": \"Year\", \"value\": \"Number of Articles\", \"variable\": \"Topics\"},\n",
    "    title=\"Number of Articles by Topic Over Time\",\n",
    "    template=\"plotly_white\",\n",
    "    color_discrete_sequence=color_sequence  # Apply the custom muted color sequence directly\n",
    ")\n",
    "\n",
    "# Update the hover info to show the topic summary on hover\n",
    "for i, col in enumerate(topic_by_year_count.columns):\n",
    "    fig.data[i].name = topic_summaries[i]  # Assign topic summaries as hover labels\n",
    "\n",
    "# Customize layout\n",
    "fig.update_layout(\n",
    "    xaxis_title=\"Year\",\n",
    "    yaxis_title=\"Number of Articles\",\n",
    "    barmode='stack',\n",
    "    hovermode='x unified',\n",
    "    width=1200,\n",
    "    height=600,\n",
    "    legend=dict(\n",
    "        yanchor='bottom',\n",
    "        xanchor='center'\n",
    "    )\n",
    ")\n",
    "\n",
    "fig.show()\n",
    "\n",
    "# Step 5: Display the topic distribution by year\n",
    "print(\"Topic distribution by year:\")\n",
    "print(topic_by_year_count)\n"
   ]
  },
  {
   "cell_type": "code",
   "execution_count": 153,
   "metadata": {},
   "outputs": [
    {
     "name": "stderr",
     "output_type": "stream",
     "text": [
      "C:\\Users\\small\\AppData\\Local\\Temp\\ipykernel_10080\\1233385569.py:27: SettingWithCopyWarning:\n",
      "\n",
      "\n",
      "A value is trying to be set on a copy of a slice from a DataFrame.\n",
      "Try using .loc[row_indexer,col_indexer] = value instead\n",
      "\n",
      "See the caveats in the documentation: https://pandas.pydata.org/pandas-docs/stable/user_guide/indexing.html#returning-a-view-versus-a-copy\n",
      "\n"
     ]
    },
    {
     "data": {
      "image/png": "[encoded data removed]",
      "text/plain": [
       "<Figure size 1200x800 with 1 Axes>"
      ]
     },
     "metadata": {},
     "output_type": "display_data"
    },
    {
     "name": "stdout",
     "output_type": "stream",
     "text": [
      "Top 10 Authors by Total Articles (Ascending):\n",
      "                   Topic 1   Topic 2    Topic 3    Topic 4    Topic 5  \\\n",
      "C Goarant         1.672179  1.053036   6.346239   8.379380  19.805242   \n",
      "F Costa           1.161137  1.136412   1.948752   2.147715  29.244599   \n",
      "SA Vasconcellos   7.352067  1.312263   1.909423  31.847645  12.242839   \n",
      "RA Hartskeerl    12.094438  1.606955   7.845404   6.017391  23.866669   \n",
      "N Koizumi         5.351581  1.873610  12.050258   7.374459  27.959815   \n",
      "MG Reis          10.193479  1.424857   6.629575  13.437372  22.676851   \n",
      "OA Dellagostin   19.441051  1.450244   1.697643  20.678899  14.774116   \n",
      "W Lilenbaum       6.105009  1.852947   2.736162   6.458178  57.990028   \n",
      "M Picardeau       5.411887  1.992096   3.442646  32.045837  31.079336   \n",
      "AI Ko            11.545072  2.225290   9.173173  22.170683  34.837161   \n",
      "\n",
      "                  Topic 6  Total  \n",
      "C Goarant        3.743923   41.0  \n",
      "F Costa          5.361385   41.0  \n",
      "SA Vasconcellos  1.335762   56.0  \n",
      "RA Hartskeerl    4.569143   56.0  \n",
      "N Koizumi        1.390277   56.0  \n",
      "MG Reis          2.637866   57.0  \n",
      "OA Dellagostin   1.958047   60.0  \n",
      "W Lilenbaum      1.857677   77.0  \n",
      "M Picardeau      4.028198   78.0  \n",
      "AI Ko            6.048621   86.0  \n"
     ]
    }
   ],
   "source": [
    "import pandas as pd\n",
    "import matplotlib.pyplot as plt\n",
    "\n",
    "# Step 1: Ensure 'PMID' column is string type in both DataFrames\n",
    "authors_df['PMID'] = authors_df['PMID'].astype(str)\n",
    "articles_df['PMID'] = articles_df['PMID'].astype(str)\n",
    "\n",
    "# Step 2: Create a full name for each author\n",
    "authors_df['FullName'] = authors_df['AuthorInitials'].fillna('') + ' ' + authors_df['AuthorLastname'].fillna('')\n",
    "authors_df['FullName'] = authors_df['FullName'].str.strip()  # Remove extra spaces\n",
    "\n",
    "# Step 3: Get total articles count per author\n",
    "article_counts_per_author = articles_df.groupby('PMID')['Year'].count().reset_index()\n",
    "article_counts_per_author.columns = ['PMID', 'ArticleCount']\n",
    "\n",
    "# Merge this back to authors_df to get the total article count per author\n",
    "author_article_counts = authors_df.merge(article_counts_per_author, on='PMID')\n",
    "\n",
    "# Step 4: Find top 10 authors by article count\n",
    "top_10_authors = author_article_counts.groupby('FullName')['ArticleCount'].sum().sort_values(ascending=False).head(10)\n",
    "\n",
    "# Step 5: Get articles for each of the top 10 authors\n",
    "top_10_articles = articles_df[articles_df['PMID'].isin(author_article_counts[author_article_counts['FullName'].isin(top_10_authors.index)]['PMID'])]\n",
    "\n",
    "# Step 6: Get the topic distribution for each article\n",
    "# Here, ensure topic distribution is correctly indexed\n",
    "top_10_articles['TopicDistribution'] = [topic_distribution[articles_df[articles_df['PMID'] == pmid].index[0]] for pmid in top_10_articles['PMID']]\n",
    "\n",
    "# Step 7: Initialize a dictionary for counting topics per author\n",
    "author_topic_counts = {author: {f'Topic {i+1}': 0 for i in range(lda.n_components)} for author in top_10_authors.index}\n",
    "\n",
    "# Step 8: Loop through each article and count the topics for each author\n",
    "for index, article in top_10_articles.iterrows():\n",
    "    pmid = article['PMID']\n",
    "    authors = authors_df[authors_df['PMID'] == pmid]['FullName'].values\n",
    "    topic_dist = article['TopicDistribution']\n",
    "    \n",
    "    # Increment the topic count for each author based on the topic distribution\n",
    "    for author in authors:\n",
    "        if author in author_topic_counts:\n",
    "            for topic_idx in range(lda.n_components):\n",
    "                # Add topic contribution to the author\n",
    "                author_topic_counts[author][f'Topic {topic_idx+1}'] += topic_dist[topic_idx]\n",
    "\n",
    "# Step 9: Convert the dictionary to a DataFrame for later use\n",
    "author_topic_df = pd.DataFrame.from_dict(author_topic_counts, orient='index')\n",
    "\n",
    "# Step 10: Sort the DataFrame in ascending order by total article count (across all topics)\n",
    "author_topic_df['Total'] = author_topic_df.sum(axis=1)\n",
    "author_topic_df = author_topic_df.sort_values(by='Total', ascending=True)  # Sort in ascending order\n",
    "\n",
    "# Step 11: Plot the data (stacked bar chart)\n",
    "author_topic_df.drop(columns='Total').plot(kind='barh', stacked=True, figsize=(12, 8), color=color_sequence[:lda.n_components]) \n",
    "plt.title('Top 10 Authors by Topic Contribution (Ascending)')\n",
    "plt.xlabel('Number of Articles')\n",
    "plt.ylabel('Authors')\n",
    "plt.legend(title='Topics', bbox_to_anchor=(1.05, 1), loc='upper left')\n",
    "plt.tight_layout()\n",
    "plt.show()\n",
    "\n",
    "# Step 12: Display the top 10 authors by total article count\n",
    "print(\"Top 10 Authors by Total Articles (Ascending):\")\n",
    "print(author_topic_df)\n"
   ]
  },
  {
   "cell_type": "code",
   "execution_count": null,
   "metadata": {},
   "outputs": [],
   "source": []
  }
 ],
 "metadata": {
  "accelerator": "GPU",
  "colab": {
   "authorship_tag": "ABX9TyPIaeU6LiTtR4ac+YGXuBkd",
   "gpuType": "T4",
   "provenance": []
  },
  "kernelspec": {
   "display_name": "base",
   "language": "python",
   "name": "python3"
  },
  "language_info": {
   "codemirror_mode": {
    "name": "ipython",
    "version": 3
   },
   "file_extension": ".py",
   "mimetype": "text/x-python",
   "name": "python",
   "nbconvert_exporter": "python",
   "pygments_lexer": "ipython3",
   "version": "3.12.4"
  }
 },
 "nbformat": 4,
 "nbformat_minor": 0
}
