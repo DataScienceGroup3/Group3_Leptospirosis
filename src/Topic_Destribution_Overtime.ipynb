{
 "cells": [
  {
   "cell_type": "code",
   "execution_count": 14,
   "metadata": {
    "id": "hMdY-7MMww77"
   },
   "outputs": [],
   "source": [
    "import pandas as pd\n",
    "import numpy as np\n",
    "import matplotlib.pyplot as plt\n",
    "import seaborn as sns\n",
    "\n",
    "import re\n",
    "\n",
    "from sklearn.feature_extraction.text import TfidfVectorizer\n",
    "from sklearn.decomposition import LatentDirichletAllocation\n",
    "from sklearn.metrics.pairwise import cosine_similarity\n",
    "\n",
    "import plotly.express as px\n",
    "import plotly.graph_objects as go\n"
   ]
  },
  {
   "cell_type": "code",
   "execution_count": 15,
   "metadata": {
    "collapsed": true,
    "id": "G67VP1TJw9rJ"
   },
   "outputs": [],
   "source": [
    "# Reading the CSV files\n",
    "articles_df = pd.read_csv('../data/articles.leptospirosis.csv')\n",
    "authors_df = pd.read_csv('../data/authors.leptospirosis.csv')\n",
    "paper_counts_df = pd.read_csv('../data/paper_counts.csv')\n",
    "\n",
    "# display(articles_df.head())\n",
    "# display(authors_df.head())\n",
    "# display(paper_counts_df.head())\n",
    "\n",
    "# # Check the data types and basic structure of the dataframes\n",
    "# print(articles_df.info())\n",
    "# print(authors_df.info())\n",
    "# print(paper_counts_df.info())\n",
    "\n",
    "# # Check for missing values in each dataset\n",
    "# print(articles_df.isnull().sum())\n",
    "# print(authors_df.isnull().sum())\n",
    "# print(paper_counts_df.isnull().sum())"
   ]
  },
  {
   "cell_type": "code",
   "execution_count": 16,
   "metadata": {
    "collapsed": true,
    "id": "eQeuN3OF0UlD"
   },
   "outputs": [],
   "source": [
    "# Drop rows with missing values in specific columns\n",
    "# Remove rows with missing values in the articles DataFrame\n",
    "articles_df_cleaned = articles_df.dropna()\n",
    "authors_df_cleaned = authors_df.dropna()\n",
    "paper_counts_df_cleaned = paper_counts_df.dropna()\n",
    "\n",
    "# Drop duplicate rows\n",
    "articles_df.drop_duplicates(inplace=True)\n",
    "authors_df.drop_duplicates(inplace=True)\n",
    "paper_counts_df.drop_duplicates(inplace=True)\n",
    "\n",
    "# # Check if there are any missing values left\n",
    "# print(articles_df.isnull().sum())\n",
    "# print(authors_df.isnull().sum())"
   ]
  },
  {
   "cell_type": "code",
   "execution_count": 17,
   "metadata": {
    "collapsed": true,
    "id": "x-yPdyBy0WQc"
   },
   "outputs": [],
   "source": [
    "# Check the data types of each column\n",
    "# print(articles_df_cleaned.dtypes)\n",
    "\n",
    "# Example of type conversion if needed\n",
    "articles_df_cleaned.loc[:, 'Year'] = articles_df_cleaned['Year'].astype(int)"
   ]
  },
  {
   "cell_type": "code",
   "execution_count": 20,
   "metadata": {
    "colab": {
     "base_uri": "https://localhost:8080/"
    },
    "executionInfo": {
     "elapsed": 15330,
     "status": "ok",
     "timestamp": 1737851543609,
     "user": {
      "displayName": "Yuri Kobuki",
      "userId": "11061684448908874128"
     },
     "user_tz": 0
    },
    "id": "RAaPWRirFdut",
    "outputId": "2be8b126-8fab-44d9-d4db-1128afc4bf68"
   },
   "outputs": [
    {
     "name": "stdout",
     "output_type": "stream",
     "text": [
      "Number of articles per topic:\n",
      "0     380\n",
      "2      33\n",
      "4    1020\n",
      "5      40\n",
      "6     739\n",
      "7     673\n",
      "8     504\n",
      "Name: count, dtype: int64\n",
      "Number of articles per topic:\n",
      "0    336\n",
      "1      1\n",
      "2    143\n",
      "3    434\n",
      "4    948\n",
      "5    895\n",
      "6    632\n",
      "Name: count, dtype: int64\n"
     ]
    }
   ],
   "source": [
    "\"\"\"\n",
    "To narow down num of topics\n",
    "Ans: 1- -> 6\n",
    "\"\"\"\n",
    "num_topics = 10\n",
    "\n",
    "# Combine the title and abstract into a single text column\n",
    "articles_df['Text'] = articles_df['Title'].fillna('') + ' ' + articles_df['Abstract'].fillna('')\n",
    "\n",
    "# Set up the TF-IDF vectorizer\n",
    "tfidf_vectorizer = TfidfVectorizer(stop_words='english', max_features=1000)\n",
    "X = tfidf_vectorizer.fit_transform(articles_df['Text'])\n",
    "\n",
    "def train_lda(n_components, X):\n",
    "\n",
    "  # Train the LDA model\n",
    "  lda = LatentDirichletAllocation(n_components=n_components, random_state=42)\n",
    "  lda.fit(X)\n",
    "\n",
    "  # Get the topic distribution for each document\n",
    "  topic_distribution = lda.transform(X)\n",
    "\n",
    "  # Assign each document to its most likely topic\n",
    "  topic_assignments = topic_distribution.argmax(axis=1)\n",
    "\n",
    "  return lda, topic_distribution, topic_assignments\n",
    "\n",
    "def count_num_of_articles(topic_assignments):\n",
    "  # Count the number of articles in each topic\n",
    "  topic_counts = pd.Series(topic_assignments).value_counts().sort_index()\n",
    "  return topic_counts\n",
    "\n",
    "def devide_into_topics(num_topics, X):\n",
    "  num_topics_tmp = num_topics\n",
    "  lda, topic_distribution, topic_assignments = train_lda(num_topics_tmp, X)\n",
    "  topic_counts = count_num_of_articles(topic_assignments)\n",
    "\n",
    "  # Display the number of articles per topic\n",
    "  print(\"Number of articles per topic:\")\n",
    "  print(topic_counts)\n",
    "\n",
    "  if len(topic_counts) < num_topics:\n",
    "    return devide_into_topics(len(topic_counts), X)\n",
    "\n",
    "  return lda, topic_distribution, topic_assignments\n",
    "\n",
    "lda, topic_distribution, topic_assignments = devide_into_topics(num_topics, X)"
   ]
  },
  {
   "cell_type": "code",
   "execution_count": 22,
   "metadata": {},
   "outputs": [],
   "source": [
    "num_topics = 6\n",
    "\n",
    "# Combine the title and abstract into a single text column\n",
    "articles_df['Text'] = articles_df['Title'].fillna('') + ' ' + articles_df['Abstract'].fillna('')\n",
    "\n",
    "# Set up the TF-IDF vectorizer\n",
    "tfidf_vectorizer = TfidfVectorizer(stop_words='english', max_features=1000)\n",
    "X = tfidf_vectorizer.fit_transform(articles_df['Text'])\n",
    "\n",
    "lda = LatentDirichletAllocation(n_components=num_topics, random_state=42)\n",
    "lda.fit(X)\n",
    "\n",
    "# Get the topic distribution for each document\n",
    "topic_distribution = lda.transform(X)\n",
    "\n",
    "# Assign each document to its most likely topic\n",
    "topic_assignments = topic_distribution.argmax(axis=1)"
   ]
  },
  {
   "cell_type": "code",
   "execution_count": 24,
   "metadata": {
    "colab": {
     "base_uri": "https://localhost:8080/",
     "height": 617
    },
    "executionInfo": {
     "elapsed": 1183,
     "status": "ok",
     "timestamp": 1737897144818,
     "user": {
      "displayName": "Yuri Kobuki",
      "userId": "11061684448908874128"
     },
     "user_tz": 0
    },
    "id": "WRajbTxzG9Cc",
    "outputId": "b11da019-835d-4751-cec6-2a62b5025e19"
   },
   "outputs": [
    {
     "data": {
      "application/vnd.plotly.v1+json": {
       "config": {
        "plotlyServerURL": "https://plot.ly"
       },
       "data": [
        {
         "marker": {
          "color": "#b4a7d6",
          "line": {
           "color": "black",
           "width": 2
          },
          "opacity": 0.6,
          "size": 90,
          "sizemode": "diameter",
          "symbol": "circle"
         },
         "mode": "markers",
         "name": "Topic 1",
         "type": "scatter",
         "x": [
          0.08283749702749488
         ],
         "y": [
          0.03835050669781015
         ]
        },
        {
         "mode": "text",
         "name": "Topic 1",
         "showlegend": true,
         "text": [
          "Topic 1: patients, dna, used, specific, pathogenic, based, agglutination, using, sera, lipl32, vaccines, tests, samples, specificity, rapid, antigen, recombinant, sensitivity, diagnostic, leptospira, igm, mat, detection, vaccine, leptospirosis, elisa, diagnosis, pcr, test, assay"
         ],
         "type": "scatter",
         "x": [
          null
         ],
         "y": [
          null
         ]
        },
        {
         "marker": {
          "color": "#c27ba0",
          "line": {
           "color": "black",
           "width": 2
          },
          "opacity": 0.6,
          "size": 90,
          "sizemode": "diameter",
          "symbol": "circle"
         },
         "mode": "markers",
         "name": "Topic 2",
         "type": "scatter",
         "x": [
          0.9843969835087019
         ],
         "y": [
          0.5333906913682158
         ]
        },
        {
         "mode": "text",
         "name": "Topic 2",
         "showlegend": true,
         "text": [
          "Topic 2: investigate, economic, old, children, farms, causing, viral, estimate, abortion, rodent, model, new, chronic, district, cattle, vaccination, herd, southern, virus, reproductive, herds, dairy, bovine, farm, cows, zealand, deer, hantavirus, lanka, sri"
         ],
         "type": "scatter",
         "x": [
          null
         ],
         "y": [
          null
         ]
        },
        {
         "marker": {
          "color": "#9fc5e8",
          "line": {
           "color": "black",
           "width": 2
          },
          "opacity": 0.6,
          "size": 90,
          "sizemode": "diameter",
          "symbol": "circle"
         },
         "mode": "markers",
         "name": "Topic 3",
         "type": "scatter",
         "x": [
          0.24670213133191998
         ],
         "y": [
          0.9757157929841457
         ]
        },
        {
         "mode": "text",
         "name": "Topic 3",
         "showlegend": true,
         "text": [
          "Topic 3: mortality, respiratory, year, jaundice, symptoms, associated, dengue, old, involvement, manifestations, infection, weil, illness, cases, diagnosis, treatment, report, syndrome, patient, disease, fever, failure, renal, pulmonary, case, clinical, acute, severe, patients, leptospirosis"
         ],
         "type": "scatter",
         "x": [
          null
         ],
         "y": [
          null
         ]
        },
        {
         "marker": {
          "color": "#b6d7a8",
          "line": {
           "color": "black",
           "width": 2
          },
          "opacity": 0.6,
          "size": 90,
          "sizemode": "diameter",
          "symbol": "circle"
         },
         "mode": "markers",
         "name": "Topic 4",
         "type": "scatter",
         "x": [
          0.5496964518983618
         ],
         "y": [
          0.1811294994224839
         ]
        },
        {
         "mode": "text",
         "name": "Topic 4",
         "showlegend": true,
         "text": [
          "Topic 4: gene, surface, role, outer, serovar, model, genes, mice, strain, hamsters, membrane, leptospires, pathogenesis, il, infection, binding, leptospirosis, response, cell, virulence, immune, cells, expression, host, leptospiral, pathogenic, protein, proteins, interrogans, leptospira"
         ],
         "type": "scatter",
         "x": [
          null
         ],
         "y": [
          null
         ]
        },
        {
         "marker": {
          "color": "#ffd966",
          "line": {
           "color": "black",
           "width": 2
          },
          "opacity": 0.6,
          "size": 90,
          "sizemode": "diameter",
          "symbol": "circle"
         },
         "mode": "markers",
         "name": "Topic 5",
         "type": "scatter",
         "x": [
          0.7321792545757128
         ],
         "y": [
          0.8628010462177156
         ]
        },
        {
         "mode": "text",
         "name": "Topic 5",
         "showlegend": true,
         "text": [
          "Topic 5: zoonotic, rodents, transmission, associated, brazil, urban, incidence, seroprevalence, humans, positive, spp, animal, cattle, serovar, prevalence, species, serovars, samples, health, infection, factors, human, dogs, animals, cases, study, disease, risk, leptospira, leptospirosis"
         ],
         "type": "scatter",
         "x": [
          null
         ],
         "y": [
          null
         ]
        },
        {
         "marker": {
          "color": "#f4cccc",
          "line": {
           "color": "black",
           "width": 2
          },
          "opacity": 0.6,
          "size": 90,
          "sizemode": "diameter",
          "symbol": "circle"
         },
         "mode": "markers",
         "name": "Topic 6",
         "type": "scatter",
         "x": [
          0.8367672871920673
         ],
         "y": [
          0.9198125799388703
         ]
        },
        {
         "mode": "text",
         "name": "Topic 6",
         "showlegend": true,
         "text": [
          "Topic 6: emergence, change, factors, neglected, human, global, asia, risk, borne, zoonoses, public, tropical, zoonotic, emerging, burden, countries, infectious, climate, dengue, disease, review, india, malaria, fever, infections, health, leptospirosis, scrub, diseases, typhus"
         ],
         "type": "scatter",
         "x": [
          null
         ],
         "y": [
          null
         ]
        }
       ],
       "layout": {
        "height": 600,
        "plot_bgcolor": "white",
        "showlegend": true,
        "template": {
         "data": {
          "bar": [
           {
            "error_x": {
             "color": "#2a3f5f"
            },
            "error_y": {
             "color": "#2a3f5f"
            },
            "marker": {
             "line": {
              "color": "#E5ECF6",
              "width": 0.5
             },
             "pattern": {
              "fillmode": "overlay",
              "size": 10,
              "solidity": 0.2
             }
            },
            "type": "bar"
           }
          ],
          "barpolar": [
           {
            "marker": {
             "line": {
              "color": "#E5ECF6",
              "width": 0.5
             },
             "pattern": {
              "fillmode": "overlay",
              "size": 10,
              "solidity": 0.2
             }
            },
            "type": "barpolar"
           }
          ],
          "carpet": [
           {
            "aaxis": {
             "endlinecolor": "#2a3f5f",
             "gridcolor": "white",
             "linecolor": "white",
             "minorgridcolor": "white",
             "startlinecolor": "#2a3f5f"
            },
            "baxis": {
             "endlinecolor": "#2a3f5f",
             "gridcolor": "white",
             "linecolor": "white",
             "minorgridcolor": "white",
             "startlinecolor": "#2a3f5f"
            },
            "type": "carpet"
           }
          ],
          "choropleth": [
           {
            "colorbar": {
             "outlinewidth": 0,
             "ticks": ""
            },
            "type": "choropleth"
           }
          ],
          "contour": [
           {
            "colorbar": {
             "outlinewidth": 0,
             "ticks": ""
            },
            "colorscale": [
             [
              0,
              "#0d0887"
             ],
             [
              0.1111111111111111,
              "#46039f"
             ],
             [
              0.2222222222222222,
              "#7201a8"
             ],
             [
              0.3333333333333333,
              "#9c179e"
             ],
             [
              0.4444444444444444,
              "#bd3786"
             ],
             [
              0.5555555555555556,
              "#d8576b"
             ],
             [
              0.6666666666666666,
              "#ed7953"
             ],
             [
              0.7777777777777778,
              "#fb9f3a"
             ],
             [
              0.8888888888888888,
              "#fdca26"
             ],
             [
              1,
              "#f0f921"
             ]
            ],
            "type": "contour"
           }
          ],
          "contourcarpet": [
           {
            "colorbar": {
             "outlinewidth": 0,
             "ticks": ""
            },
            "type": "contourcarpet"
           }
          ],
          "heatmap": [
           {
            "colorbar": {
             "outlinewidth": 0,
             "ticks": ""
            },
            "colorscale": [
             [
              0,
              "#0d0887"
             ],
             [
              0.1111111111111111,
              "#46039f"
             ],
             [
              0.2222222222222222,
              "#7201a8"
             ],
             [
              0.3333333333333333,
              "#9c179e"
             ],
             [
              0.4444444444444444,
              "#bd3786"
             ],
             [
              0.5555555555555556,
              "#d8576b"
             ],
             [
              0.6666666666666666,
              "#ed7953"
             ],
             [
              0.7777777777777778,
              "#fb9f3a"
             ],
             [
              0.8888888888888888,
              "#fdca26"
             ],
             [
              1,
              "#f0f921"
             ]
            ],
            "type": "heatmap"
           }
          ],
          "heatmapgl": [
           {
            "colorbar": {
             "outlinewidth": 0,
             "ticks": ""
            },
            "colorscale": [
             [
              0,
              "#0d0887"
             ],
             [
              0.1111111111111111,
              "#46039f"
             ],
             [
              0.2222222222222222,
              "#7201a8"
             ],
             [
              0.3333333333333333,
              "#9c179e"
             ],
             [
              0.4444444444444444,
              "#bd3786"
             ],
             [
              0.5555555555555556,
              "#d8576b"
             ],
             [
              0.6666666666666666,
              "#ed7953"
             ],
             [
              0.7777777777777778,
              "#fb9f3a"
             ],
             [
              0.8888888888888888,
              "#fdca26"
             ],
             [
              1,
              "#f0f921"
             ]
            ],
            "type": "heatmapgl"
           }
          ],
          "histogram": [
           {
            "marker": {
             "pattern": {
              "fillmode": "overlay",
              "size": 10,
              "solidity": 0.2
             }
            },
            "type": "histogram"
           }
          ],
          "histogram2d": [
           {
            "colorbar": {
             "outlinewidth": 0,
             "ticks": ""
            },
            "colorscale": [
             [
              0,
              "#0d0887"
             ],
             [
              0.1111111111111111,
              "#46039f"
             ],
             [
              0.2222222222222222,
              "#7201a8"
             ],
             [
              0.3333333333333333,
              "#9c179e"
             ],
             [
              0.4444444444444444,
              "#bd3786"
             ],
             [
              0.5555555555555556,
              "#d8576b"
             ],
             [
              0.6666666666666666,
              "#ed7953"
             ],
             [
              0.7777777777777778,
              "#fb9f3a"
             ],
             [
              0.8888888888888888,
              "#fdca26"
             ],
             [
              1,
              "#f0f921"
             ]
            ],
            "type": "histogram2d"
           }
          ],
          "histogram2dcontour": [
           {
            "colorbar": {
             "outlinewidth": 0,
             "ticks": ""
            },
            "colorscale": [
             [
              0,
              "#0d0887"
             ],
             [
              0.1111111111111111,
              "#46039f"
             ],
             [
              0.2222222222222222,
              "#7201a8"
             ],
             [
              0.3333333333333333,
              "#9c179e"
             ],
             [
              0.4444444444444444,
              "#bd3786"
             ],
             [
              0.5555555555555556,
              "#d8576b"
             ],
             [
              0.6666666666666666,
              "#ed7953"
             ],
             [
              0.7777777777777778,
              "#fb9f3a"
             ],
             [
              0.8888888888888888,
              "#fdca26"
             ],
             [
              1,
              "#f0f921"
             ]
            ],
            "type": "histogram2dcontour"
           }
          ],
          "mesh3d": [
           {
            "colorbar": {
             "outlinewidth": 0,
             "ticks": ""
            },
            "type": "mesh3d"
           }
          ],
          "parcoords": [
           {
            "line": {
             "colorbar": {
              "outlinewidth": 0,
              "ticks": ""
             }
            },
            "type": "parcoords"
           }
          ],
          "pie": [
           {
            "automargin": true,
            "type": "pie"
           }
          ],
          "scatter": [
           {
            "fillpattern": {
             "fillmode": "overlay",
             "size": 10,
             "solidity": 0.2
            },
            "type": "scatter"
           }
          ],
          "scatter3d": [
           {
            "line": {
             "colorbar": {
              "outlinewidth": 0,
              "ticks": ""
             }
            },
            "marker": {
             "colorbar": {
              "outlinewidth": 0,
              "ticks": ""
             }
            },
            "type": "scatter3d"
           }
          ],
          "scattercarpet": [
           {
            "marker": {
             "colorbar": {
              "outlinewidth": 0,
              "ticks": ""
             }
            },
            "type": "scattercarpet"
           }
          ],
          "scattergeo": [
           {
            "marker": {
             "colorbar": {
              "outlinewidth": 0,
              "ticks": ""
             }
            },
            "type": "scattergeo"
           }
          ],
          "scattergl": [
           {
            "marker": {
             "colorbar": {
              "outlinewidth": 0,
              "ticks": ""
             }
            },
            "type": "scattergl"
           }
          ],
          "scattermapbox": [
           {
            "marker": {
             "colorbar": {
              "outlinewidth": 0,
              "ticks": ""
             }
            },
            "type": "scattermapbox"
           }
          ],
          "scatterpolar": [
           {
            "marker": {
             "colorbar": {
              "outlinewidth": 0,
              "ticks": ""
             }
            },
            "type": "scatterpolar"
           }
          ],
          "scatterpolargl": [
           {
            "marker": {
             "colorbar": {
              "outlinewidth": 0,
              "ticks": ""
             }
            },
            "type": "scatterpolargl"
           }
          ],
          "scatterternary": [
           {
            "marker": {
             "colorbar": {
              "outlinewidth": 0,
              "ticks": ""
             }
            },
            "type": "scatterternary"
           }
          ],
          "surface": [
           {
            "colorbar": {
             "outlinewidth": 0,
             "ticks": ""
            },
            "colorscale": [
             [
              0,
              "#0d0887"
             ],
             [
              0.1111111111111111,
              "#46039f"
             ],
             [
              0.2222222222222222,
              "#7201a8"
             ],
             [
              0.3333333333333333,
              "#9c179e"
             ],
             [
              0.4444444444444444,
              "#bd3786"
             ],
             [
              0.5555555555555556,
              "#d8576b"
             ],
             [
              0.6666666666666666,
              "#ed7953"
             ],
             [
              0.7777777777777778,
              "#fb9f3a"
             ],
             [
              0.8888888888888888,
              "#fdca26"
             ],
             [
              1,
              "#f0f921"
             ]
            ],
            "type": "surface"
           }
          ],
          "table": [
           {
            "cells": {
             "fill": {
              "color": "#EBF0F8"
             },
             "line": {
              "color": "white"
             }
            },
            "header": {
             "fill": {
              "color": "#C8D4E3"
             },
             "line": {
              "color": "white"
             }
            },
            "type": "table"
           }
          ]
         },
         "layout": {
          "annotationdefaults": {
           "arrowcolor": "#2a3f5f",
           "arrowhead": 0,
           "arrowwidth": 1
          },
          "autotypenumbers": "strict",
          "coloraxis": {
           "colorbar": {
            "outlinewidth": 0,
            "ticks": ""
           }
          },
          "colorscale": {
           "diverging": [
            [
             0,
             "#8e0152"
            ],
            [
             0.1,
             "#c51b7d"
            ],
            [
             0.2,
             "#de77ae"
            ],
            [
             0.3,
             "#f1b6da"
            ],
            [
             0.4,
             "#fde0ef"
            ],
            [
             0.5,
             "#f7f7f7"
            ],
            [
             0.6,
             "#e6f5d0"
            ],
            [
             0.7,
             "#b8e186"
            ],
            [
             0.8,
             "#7fbc41"
            ],
            [
             0.9,
             "#4d9221"
            ],
            [
             1,
             "#276419"
            ]
           ],
           "sequential": [
            [
             0,
             "#0d0887"
            ],
            [
             0.1111111111111111,
             "#46039f"
            ],
            [
             0.2222222222222222,
             "#7201a8"
            ],
            [
             0.3333333333333333,
             "#9c179e"
            ],
            [
             0.4444444444444444,
             "#bd3786"
            ],
            [
             0.5555555555555556,
             "#d8576b"
            ],
            [
             0.6666666666666666,
             "#ed7953"
            ],
            [
             0.7777777777777778,
             "#fb9f3a"
            ],
            [
             0.8888888888888888,
             "#fdca26"
            ],
            [
             1,
             "#f0f921"
            ]
           ],
           "sequentialminus": [
            [
             0,
             "#0d0887"
            ],
            [
             0.1111111111111111,
             "#46039f"
            ],
            [
             0.2222222222222222,
             "#7201a8"
            ],
            [
             0.3333333333333333,
             "#9c179e"
            ],
            [
             0.4444444444444444,
             "#bd3786"
            ],
            [
             0.5555555555555556,
             "#d8576b"
            ],
            [
             0.6666666666666666,
             "#ed7953"
            ],
            [
             0.7777777777777778,
             "#fb9f3a"
            ],
            [
             0.8888888888888888,
             "#fdca26"
            ],
            [
             1,
             "#f0f921"
            ]
           ]
          },
          "colorway": [
           "#636efa",
           "#EF553B",
           "#00cc96",
           "#ab63fa",
           "#FFA15A",
           "#19d3f3",
           "#FF6692",
           "#B6E880",
           "#FF97FF",
           "#FECB52"
          ],
          "font": {
           "color": "#2a3f5f"
          },
          "geo": {
           "bgcolor": "white",
           "lakecolor": "white",
           "landcolor": "#E5ECF6",
           "showlakes": true,
           "showland": true,
           "subunitcolor": "white"
          },
          "hoverlabel": {
           "align": "left"
          },
          "hovermode": "closest",
          "mapbox": {
           "style": "light"
          },
          "paper_bgcolor": "white",
          "plot_bgcolor": "#E5ECF6",
          "polar": {
           "angularaxis": {
            "gridcolor": "white",
            "linecolor": "white",
            "ticks": ""
           },
           "bgcolor": "#E5ECF6",
           "radialaxis": {
            "gridcolor": "white",
            "linecolor": "white",
            "ticks": ""
           }
          },
          "scene": {
           "xaxis": {
            "backgroundcolor": "#E5ECF6",
            "gridcolor": "white",
            "gridwidth": 2,
            "linecolor": "white",
            "showbackground": true,
            "ticks": "",
            "zerolinecolor": "white"
           },
           "yaxis": {
            "backgroundcolor": "#E5ECF6",
            "gridcolor": "white",
            "gridwidth": 2,
            "linecolor": "white",
            "showbackground": true,
            "ticks": "",
            "zerolinecolor": "white"
           },
           "zaxis": {
            "backgroundcolor": "#E5ECF6",
            "gridcolor": "white",
            "gridwidth": 2,
            "linecolor": "white",
            "showbackground": true,
            "ticks": "",
            "zerolinecolor": "white"
           }
          },
          "shapedefaults": {
           "line": {
            "color": "#2a3f5f"
           }
          },
          "ternary": {
           "aaxis": {
            "gridcolor": "white",
            "linecolor": "white",
            "ticks": ""
           },
           "baxis": {
            "gridcolor": "white",
            "linecolor": "white",
            "ticks": ""
           },
           "bgcolor": "#E5ECF6",
           "caxis": {
            "gridcolor": "white",
            "linecolor": "white",
            "ticks": ""
           }
          },
          "title": {
           "x": 0.05
          },
          "xaxis": {
           "automargin": true,
           "gridcolor": "white",
           "linecolor": "white",
           "ticks": "",
           "title": {
            "standoff": 15
           },
           "zerolinecolor": "white",
           "zerolinewidth": 2
          },
          "yaxis": {
           "automargin": true,
           "gridcolor": "white",
           "linecolor": "white",
           "ticks": "",
           "title": {
            "standoff": 15
           },
           "zerolinecolor": "white",
           "zerolinewidth": 2
          }
         }
        },
        "title": {
         "text": "Topic Overlap Visualization with Color Coding and Top 30 Words in Legend"
        },
        "width": 600,
        "xaxis": {
         "showgrid": false,
         "zeroline": false
        },
        "yaxis": {
         "showgrid": false,
         "zeroline": false
        }
       }
      }
     },
     "metadata": {},
     "output_type": "display_data"
    }
   ],
   "source": [
    "# Step 1: Check the similarity\n",
    "# Function to calculate the overlap between topics\n",
    "def get_topic_overlap(lda, tfidf_vectorizer, num_topics):\n",
    "    words = np.array(tfidf_vectorizer.get_feature_names_out())\n",
    "    topic_vectors = []\n",
    "\n",
    "    # Construct topic vectors using the highest-weighted words\n",
    "    for topic in lda.components_:\n",
    "        topic_vector = np.zeros(len(words))\n",
    "        for idx in topic.argsort()[-30:]:  # Top 30 words for each topic\n",
    "            topic_vector[idx] = topic[idx]\n",
    "        topic_vectors.append(topic_vector)\n",
    "\n",
    "    similarity_matrix = cosine_similarity(topic_vectors)\n",
    "    return similarity_matrix, words\n",
    "\n",
    "# Calculate the topic similarity and get the words\n",
    "similarity_matrix, words = get_topic_overlap(lda, tfidf_vectorizer, num_topics)\n",
    "\n",
    "# Create a dataframe to hold the x and y coordinates for the circles\n",
    "topic_positions = np.random.rand(num_topics, 2)  # Random initial positions for topics\n",
    "\n",
    "# Define a list of colors (you can modify this or use a color palette)\n",
    "colors = [\n",
    "    '#b4a7d6',  # Light Purple\n",
    "    '#c27ba0',  # Greige (Grayish Beige)\n",
    "    '#9fc5e8',  # Light Blue\n",
    "    '#b6d7a8',  # Light Green\n",
    "    '#ffd966',  # Dark Yellow\n",
    "    '#f4cccc',  # Light Pink\n",
    "    '#ce7e00',  # Dark Brown\n",
    "    '#d9d9d6',  # Light Gray\n",
    "    '#444444',  # Dark Gray\n",
    "    '#a52a2a',  # Brown\n",
    "]\n",
    "\n",
    "# Create the plotly figure\n",
    "fig = go.Figure()\n",
    "\n",
    "# Add circles for each topic with distinct colors\n",
    "for i in range(num_topics):\n",
    "    # Use a random position for each circle\n",
    "    x_pos, y_pos = topic_positions[i]\n",
    "\n",
    "    # Add the circle for the current topic with a specific color\n",
    "    fig.add_trace(go.Scatter(\n",
    "        x=[x_pos], y=[y_pos], mode=\"markers\", marker=dict(\n",
    "            size=90, opacity=0.6, line=dict(width=2, color=\"black\"),\n",
    "            symbol=\"circle\", color=colors[i], sizemode=\"diameter\"),\n",
    "        name=f\"Topic {i + 1}\"\n",
    "    ))\n",
    "\n",
    "    # Get the top 30 words for the current topic\n",
    "    top_words = [words[idx] for idx in lda.components_[i].argsort()[-30:]]\n",
    "\n",
    "    # Add the topic name with top words to the legend (display only the name)\n",
    "    fig.add_trace(go.Scatter(\n",
    "        x=[None], y=[None], mode=\"text\", text=[f\"Topic {i + 1}: \" + ', '.join(top_words)],\n",
    "        showlegend=True, name=f\"Topic {i + 1}\"\n",
    "    ))\n",
    "\n",
    "# Overlay the circles based on similarity\n",
    "for i in range(num_topics):\n",
    "    for j in range(i + 1, num_topics):\n",
    "        similarity_score = similarity_matrix[i, j]\n",
    "\n",
    "        if similarity_score > 0.5:  # Only draw lines for significant overlaps\n",
    "\n",
    "            # Calculate the overlap based on the similarity score\n",
    "            x_overlap = [topic_positions[i][0], topic_positions[j][0]]\n",
    "            y_overlap = [topic_positions[i][1], topic_positions[j][1]]\n",
    "\n",
    "            # Draw a line (representing overlap) between the topics\n",
    "            fig.add_trace(go.Scatter(\n",
    "                x=x_overlap, y=y_overlap, mode='lines', line=dict(width=2, color=\"black\"),\n",
    "                opacity=similarity_score, showlegend=False\n",
    "            ))\n",
    "\n",
    "# Set layout to make it more readable and reduce the size of the plot\n",
    "fig.update_layout(\n",
    "    title=\"Topic Overlap Visualization with Color Coding and Top 30 Words in Legend\",\n",
    "    xaxis=dict(showgrid=False, zeroline=False),\n",
    "    yaxis=dict(showgrid=False, zeroline=False),\n",
    "    showlegend=True,\n",
    "    plot_bgcolor=\"white\",\n",
    "    width=600,\n",
    "    height=600\n",
    ")\n",
    "\n",
    "fig.show()\n"
   ]
  },
  {
   "cell_type": "code",
   "execution_count": 25,
   "metadata": {
    "colab": {
     "base_uri": "https://localhost:8080/",
     "height": 1000
    },
    "executionInfo": {
     "elapsed": 1151,
     "status": "ok",
     "timestamp": 1737854513938,
     "user": {
      "displayName": "Yuri Kobuki",
      "userId": "11061684448908874128"
     },
     "user_tz": 0
    },
    "id": "FD3O77QkrAzE",
    "outputId": "d3b8e3d9-2dc1-4383-922b-8364331427c3"
   },
   "outputs": [
    {
     "name": "stdout",
     "output_type": "stream",
     "text": [
      "Topic 3:\n"
     ]
    },
    {
     "data": {
      "text/html": [
       "<div>\n",
       "<style scoped>\n",
       "    .dataframe tbody tr th:only-of-type {\n",
       "        vertical-align: middle;\n",
       "    }\n",
       "\n",
       "    .dataframe tbody tr th {\n",
       "        vertical-align: top;\n",
       "    }\n",
       "\n",
       "    .dataframe thead th {\n",
       "        text-align: right;\n",
       "    }\n",
       "</style>\n",
       "<table border=\"1\" class=\"dataframe\">\n",
       "  <thead>\n",
       "    <tr style=\"text-align: right;\">\n",
       "      <th></th>\n",
       "      <th>Title</th>\n",
       "      <th>Authors</th>\n",
       "      <th>Year</th>\n",
       "    </tr>\n",
       "  </thead>\n",
       "  <tbody>\n",
       "    <tr>\n",
       "      <th>1289</th>\n",
       "      <td>Severe leptospirosis: treatment with intraveno...</td>\n",
       "      <td>Kyle Minor, Arun Mohan</td>\n",
       "      <td>2013</td>\n",
       "    </tr>\n",
       "    <tr>\n",
       "      <th>3218</th>\n",
       "      <td>Case Report: An Imported Case of Severe Leptos...</td>\n",
       "      <td>Takao Goto, Rentaro Oda, Yasuhiro Norisue, Nob...</td>\n",
       "      <td>2023</td>\n",
       "    </tr>\n",
       "    <tr>\n",
       "      <th>3254</th>\n",
       "      <td>Case report: Leptospirosis with multi-organ fa...</td>\n",
       "      <td>Mariam Thalji, Hanan Qunibi, Loai Muhtasib, Ha...</td>\n",
       "      <td>2023</td>\n",
       "    </tr>\n",
       "    <tr>\n",
       "      <th>1031</th>\n",
       "      <td>Clinical and imaging manifestations of hemorrh...</td>\n",
       "      <td>Edson Marchiori, Sílvia Lourenço, Sérgio Setúb...</td>\n",
       "      <td>2011</td>\n",
       "    </tr>\n",
       "    <tr>\n",
       "      <th>2012</th>\n",
       "      <td>Leptospirosis Presenting with Rapidly Progress...</td>\n",
       "      <td>Pallavi Pothuri, Keerat Ahuja, Viki Kumar, Sha...</td>\n",
       "      <td>2016</td>\n",
       "    </tr>\n",
       "    <tr>\n",
       "      <th>...</th>\n",
       "      <td>...</td>\n",
       "      <td>...</td>\n",
       "      <td>...</td>\n",
       "    </tr>\n",
       "    <tr>\n",
       "      <th>1881</th>\n",
       "      <td>Acute Respiratory Distress Syndrome Manifested...</td>\n",
       "      <td>Chen-Yi Liao, Ren-Jy Ben, Hau-Ming Wu, Shih-Ku...</td>\n",
       "      <td>2015</td>\n",
       "    </tr>\n",
       "    <tr>\n",
       "      <th>1496</th>\n",
       "      <td>Leptospirosis and dengue fever: a predictive m...</td>\n",
       "      <td>Muralidhar D Varma, Seena Vengalil, Saraschand...</td>\n",
       "      <td>2014</td>\n",
       "    </tr>\n",
       "    <tr>\n",
       "      <th>70</th>\n",
       "      <td>[Febrile cytolysis disclosing hemorrhagic feve...</td>\n",
       "      <td>E Rassiat, E Barrière, A Minello, J Jouve, P H...</td>\n",
       "      <td>2000</td>\n",
       "    </tr>\n",
       "    <tr>\n",
       "      <th>1115</th>\n",
       "      <td>Clinical manifestations of co-infection with m...</td>\n",
       "      <td>Mohan Gurjar, Saurabh Saigal, Arvind K Baronia...</td>\n",
       "      <td>2011</td>\n",
       "    </tr>\n",
       "    <tr>\n",
       "      <th>1340</th>\n",
       "      <td>Leptospirosis in New Orleans.</td>\n",
       "      <td>Herman L Toliver, N Kevin Krane</td>\n",
       "      <td>2014</td>\n",
       "    </tr>\n",
       "  </tbody>\n",
       "</table>\n",
       "<p>100 rows × 3 columns</p>\n",
       "</div>"
      ],
      "text/plain": [
       "                                                  Title  \\\n",
       "1289  Severe leptospirosis: treatment with intraveno...   \n",
       "3218  Case Report: An Imported Case of Severe Leptos...   \n",
       "3254  Case report: Leptospirosis with multi-organ fa...   \n",
       "1031  Clinical and imaging manifestations of hemorrh...   \n",
       "2012  Leptospirosis Presenting with Rapidly Progress...   \n",
       "...                                                 ...   \n",
       "1881  Acute Respiratory Distress Syndrome Manifested...   \n",
       "1496  Leptospirosis and dengue fever: a predictive m...   \n",
       "70    [Febrile cytolysis disclosing hemorrhagic feve...   \n",
       "1115  Clinical manifestations of co-infection with m...   \n",
       "1340                      Leptospirosis in New Orleans.   \n",
       "\n",
       "                                                Authors  Year  \n",
       "1289                             Kyle Minor, Arun Mohan  2013  \n",
       "3218  Takao Goto, Rentaro Oda, Yasuhiro Norisue, Nob...  2023  \n",
       "3254  Mariam Thalji, Hanan Qunibi, Loai Muhtasib, Ha...  2023  \n",
       "1031  Edson Marchiori, Sílvia Lourenço, Sérgio Setúb...  2011  \n",
       "2012  Pallavi Pothuri, Keerat Ahuja, Viki Kumar, Sha...  2016  \n",
       "...                                                 ...   ...  \n",
       "1881  Chen-Yi Liao, Ren-Jy Ben, Hau-Ming Wu, Shih-Ku...  2015  \n",
       "1496  Muralidhar D Varma, Seena Vengalil, Saraschand...  2014  \n",
       "70    E Rassiat, E Barrière, A Minello, J Jouve, P H...  2000  \n",
       "1115  Mohan Gurjar, Saurabh Saigal, Arvind K Baronia...  2011  \n",
       "1340                    Herman L Toliver, N Kevin Krane  2014  \n",
       "\n",
       "[100 rows x 3 columns]"
      ]
     },
     "metadata": {},
     "output_type": "display_data"
    },
    {
     "name": "stdout",
     "output_type": "stream",
     "text": [
      "Topic 5:\n"
     ]
    },
    {
     "data": {
      "text/html": [
       "<div>\n",
       "<style scoped>\n",
       "    .dataframe tbody tr th:only-of-type {\n",
       "        vertical-align: middle;\n",
       "    }\n",
       "\n",
       "    .dataframe tbody tr th {\n",
       "        vertical-align: top;\n",
       "    }\n",
       "\n",
       "    .dataframe thead th {\n",
       "        text-align: right;\n",
       "    }\n",
       "</style>\n",
       "<table border=\"1\" class=\"dataframe\">\n",
       "  <thead>\n",
       "    <tr style=\"text-align: right;\">\n",
       "      <th></th>\n",
       "      <th>Title</th>\n",
       "      <th>Authors</th>\n",
       "      <th>Year</th>\n",
       "    </tr>\n",
       "  </thead>\n",
       "  <tbody>\n",
       "    <tr>\n",
       "      <th>30</th>\n",
       "      <td>Epidemiological trend of human leptospirosis i...</td>\n",
       "      <td>L Ciceroni, E Stepan, A Pinto, P Pizzocaro, G ...</td>\n",
       "      <td>2000</td>\n",
       "    </tr>\n",
       "    <tr>\n",
       "      <th>2541</th>\n",
       "      <td>Knowledge, attitudes, and practices among vete...</td>\n",
       "      <td>Margaret LaFerla Jenni, Peter Woodward, Hayley...</td>\n",
       "      <td>2019</td>\n",
       "    </tr>\n",
       "    <tr>\n",
       "      <th>1913</th>\n",
       "      <td>Human Leptospirosis Infection in Fiji: An Eco-...</td>\n",
       "      <td>Colleen L Lau, Conall H Watson, John H Lowry, ...</td>\n",
       "      <td>2016</td>\n",
       "    </tr>\n",
       "    <tr>\n",
       "      <th>2207</th>\n",
       "      <td>Leptospira reservoirs among wildlife in Brazil...</td>\n",
       "      <td>Felipe Fornazari, Helio Langoni, Pâmela Merlo ...</td>\n",
       "      <td>2018</td>\n",
       "    </tr>\n",
       "    <tr>\n",
       "      <th>3058</th>\n",
       "      <td>Seroprevalence of anti-Leptospira antibodies i...</td>\n",
       "      <td>Paulina Meny, Tamara Iglesias, Clara Menéndez,...</td>\n",
       "      <td>2022</td>\n",
       "    </tr>\n",
       "    <tr>\n",
       "      <th>...</th>\n",
       "      <td>...</td>\n",
       "      <td>...</td>\n",
       "      <td>...</td>\n",
       "    </tr>\n",
       "    <tr>\n",
       "      <th>1994</th>\n",
       "      <td>Serological surveillance of Leptospirosis in I...</td>\n",
       "      <td>Silvia Tagliabue, Bianca Maria Figarolli, Mari...</td>\n",
       "      <td>2016</td>\n",
       "    </tr>\n",
       "    <tr>\n",
       "      <th>1751</th>\n",
       "      <td>Comparison of polymerase chain reaction and Wa...</td>\n",
       "      <td>Shahrzad Azizi, Reza Kheirandish, Elham Rahimi</td>\n",
       "      <td>2014</td>\n",
       "    </tr>\n",
       "    <tr>\n",
       "      <th>2105</th>\n",
       "      <td>Prevalence and renal pathology of pathogenic</td>\n",
       "      <td>Olusola L Ajayi, Richard E Antia, Olufemi E Oj...</td>\n",
       "      <td>2017</td>\n",
       "    </tr>\n",
       "    <tr>\n",
       "      <th>1239</th>\n",
       "      <td>Neighborhood-level socioeconomic and urban lan...</td>\n",
       "      <td>R K Raghavan, K M Brenner, J J Higgins, J M Sh...</td>\n",
       "      <td>2012</td>\n",
       "    </tr>\n",
       "    <tr>\n",
       "      <th>3194</th>\n",
       "      <td>A cross-sectional study on infectious health r...</td>\n",
       "      <td>Fanny Velardo, Hanifa Bouziri, Lucie Adélaïde,...</td>\n",
       "      <td>2022</td>\n",
       "    </tr>\n",
       "  </tbody>\n",
       "</table>\n",
       "<p>100 rows × 3 columns</p>\n",
       "</div>"
      ],
      "text/plain": [
       "                                                  Title  \\\n",
       "30    Epidemiological trend of human leptospirosis i...   \n",
       "2541  Knowledge, attitudes, and practices among vete...   \n",
       "1913  Human Leptospirosis Infection in Fiji: An Eco-...   \n",
       "2207  Leptospira reservoirs among wildlife in Brazil...   \n",
       "3058  Seroprevalence of anti-Leptospira antibodies i...   \n",
       "...                                                 ...   \n",
       "1994  Serological surveillance of Leptospirosis in I...   \n",
       "1751  Comparison of polymerase chain reaction and Wa...   \n",
       "2105      Prevalence and renal pathology of pathogenic    \n",
       "1239  Neighborhood-level socioeconomic and urban lan...   \n",
       "3194  A cross-sectional study on infectious health r...   \n",
       "\n",
       "                                                Authors  Year  \n",
       "30    L Ciceroni, E Stepan, A Pinto, P Pizzocaro, G ...  2000  \n",
       "2541  Margaret LaFerla Jenni, Peter Woodward, Hayley...  2019  \n",
       "1913  Colleen L Lau, Conall H Watson, John H Lowry, ...  2016  \n",
       "2207  Felipe Fornazari, Helio Langoni, Pâmela Merlo ...  2018  \n",
       "3058  Paulina Meny, Tamara Iglesias, Clara Menéndez,...  2022  \n",
       "...                                                 ...   ...  \n",
       "1994  Silvia Tagliabue, Bianca Maria Figarolli, Mari...  2016  \n",
       "1751     Shahrzad Azizi, Reza Kheirandish, Elham Rahimi  2014  \n",
       "2105  Olusola L Ajayi, Richard E Antia, Olufemi E Oj...  2017  \n",
       "1239  R K Raghavan, K M Brenner, J J Higgins, J M Sh...  2012  \n",
       "3194  Fanny Velardo, Hanifa Bouziri, Lucie Adélaïde,...  2022  \n",
       "\n",
       "[100 rows x 3 columns]"
      ]
     },
     "metadata": {},
     "output_type": "display_data"
    },
    {
     "name": "stdout",
     "output_type": "stream",
     "text": [
      "Topic 6:\n"
     ]
    },
    {
     "data": {
      "text/html": [
       "<div>\n",
       "<style scoped>\n",
       "    .dataframe tbody tr th:only-of-type {\n",
       "        vertical-align: middle;\n",
       "    }\n",
       "\n",
       "    .dataframe tbody tr th {\n",
       "        vertical-align: top;\n",
       "    }\n",
       "\n",
       "    .dataframe thead th {\n",
       "        text-align: right;\n",
       "    }\n",
       "</style>\n",
       "<table border=\"1\" class=\"dataframe\">\n",
       "  <thead>\n",
       "    <tr style=\"text-align: right;\">\n",
       "      <th></th>\n",
       "      <th>Title</th>\n",
       "      <th>Authors</th>\n",
       "      <th>Year</th>\n",
       "    </tr>\n",
       "  </thead>\n",
       "  <tbody>\n",
       "    <tr>\n",
       "      <th>2158</th>\n",
       "      <td>Pneumonia in the tropics.</td>\n",
       "      <td>Tow Keang Lim, Wen Ting Siow</td>\n",
       "      <td>2018</td>\n",
       "    </tr>\n",
       "    <tr>\n",
       "      <th>2458</th>\n",
       "      <td>Health Risks of Flood Disasters.</td>\n",
       "      <td>David L Paterson, Hugh Wright, Patrick N A Harris</td>\n",
       "      <td>2018</td>\n",
       "    </tr>\n",
       "    <tr>\n",
       "      <th>1001</th>\n",
       "      <td>Climate change, flooding, urbanisation and lep...</td>\n",
       "      <td>Colleen L Lau, Lee D Smythe, Scott B Craig, Ph...</td>\n",
       "      <td>2010</td>\n",
       "    </tr>\n",
       "    <tr>\n",
       "      <th>3286</th>\n",
       "      <td>[New infectious diseases in Europe; the effect...</td>\n",
       "      <td>A Bram Goorhuis, Quirijn de Mast, Joppe W Hovi...</td>\n",
       "      <td>2023</td>\n",
       "    </tr>\n",
       "    <tr>\n",
       "      <th>2414</th>\n",
       "      <td>Environmental risk factors of leptospirosis in...</td>\n",
       "      <td>Mohd Hatta Abdul Mutalip, Mohd Amierul Fikri M...</td>\n",
       "      <td>2019</td>\n",
       "    </tr>\n",
       "    <tr>\n",
       "      <th>...</th>\n",
       "      <td>...</td>\n",
       "      <td>...</td>\n",
       "      <td>...</td>\n",
       "    </tr>\n",
       "    <tr>\n",
       "      <th>512</th>\n",
       "      <td>The antipoverty vaccines.</td>\n",
       "      <td>Peter J Hotez, Meghan T Ferris</td>\n",
       "      <td>2006</td>\n",
       "    </tr>\n",
       "    <tr>\n",
       "      <th>2536</th>\n",
       "      <td>Fever, bacterial zoonoses, and One Health in s...</td>\n",
       "      <td>Manuela Carugati, Kajiru G Kilonzo, John A Crump</td>\n",
       "      <td>2019</td>\n",
       "    </tr>\n",
       "    <tr>\n",
       "      <th>2062</th>\n",
       "      <td>Global Warming and Its Health Impact.</td>\n",
       "      <td>Antonella Rossati</td>\n",
       "      <td>2017</td>\n",
       "    </tr>\n",
       "    <tr>\n",
       "      <th>1320</th>\n",
       "      <td>Seroprevalence of certain bacterial and viral ...</td>\n",
       "      <td>Ashok Gnanasekaran, Rajendran Paramasivam, Kan...</td>\n",
       "      <td>2013</td>\n",
       "    </tr>\n",
       "    <tr>\n",
       "      <th>43</th>\n",
       "      <td>Zoonotic infections in Nigeria: overview from ...</td>\n",
       "      <td>A O Coker, R D Isokpehi, B N Thomas, A F Fagbe...</td>\n",
       "      <td>2000</td>\n",
       "    </tr>\n",
       "  </tbody>\n",
       "</table>\n",
       "<p>100 rows × 3 columns</p>\n",
       "</div>"
      ],
      "text/plain": [
       "                                                  Title  \\\n",
       "2158                          Pneumonia in the tropics.   \n",
       "2458                   Health Risks of Flood Disasters.   \n",
       "1001  Climate change, flooding, urbanisation and lep...   \n",
       "3286  [New infectious diseases in Europe; the effect...   \n",
       "2414  Environmental risk factors of leptospirosis in...   \n",
       "...                                                 ...   \n",
       "512                           The antipoverty vaccines.   \n",
       "2536  Fever, bacterial zoonoses, and One Health in s...   \n",
       "2062              Global Warming and Its Health Impact.   \n",
       "1320  Seroprevalence of certain bacterial and viral ...   \n",
       "43    Zoonotic infections in Nigeria: overview from ...   \n",
       "\n",
       "                                                Authors  Year  \n",
       "2158                       Tow Keang Lim, Wen Ting Siow  2018  \n",
       "2458  David L Paterson, Hugh Wright, Patrick N A Harris  2018  \n",
       "1001  Colleen L Lau, Lee D Smythe, Scott B Craig, Ph...  2010  \n",
       "3286  A Bram Goorhuis, Quirijn de Mast, Joppe W Hovi...  2023  \n",
       "2414  Mohd Hatta Abdul Mutalip, Mohd Amierul Fikri M...  2019  \n",
       "...                                                 ...   ...  \n",
       "512                      Peter J Hotez, Meghan T Ferris  2006  \n",
       "2536   Manuela Carugati, Kajiru G Kilonzo, John A Crump  2019  \n",
       "2062                                  Antonella Rossati  2017  \n",
       "1320  Ashok Gnanasekaran, Rajendran Paramasivam, Kan...  2013  \n",
       "43    A O Coker, R D Isokpehi, B N Thomas, A F Fagbe...  2000  \n",
       "\n",
       "[100 rows x 3 columns]"
      ]
     },
     "metadata": {},
     "output_type": "display_data"
    },
    {
     "name": "stdout",
     "output_type": "stream",
     "text": [
      "Total Author Frequency Across Topic 3,5,6:\n"
     ]
    },
    {
     "data": {
      "text/html": [
       "<div>\n",
       "<style scoped>\n",
       "    .dataframe tbody tr th:only-of-type {\n",
       "        vertical-align: middle;\n",
       "    }\n",
       "\n",
       "    .dataframe tbody tr th {\n",
       "        vertical-align: top;\n",
       "    }\n",
       "\n",
       "    .dataframe thead th {\n",
       "        text-align: right;\n",
       "    }\n",
       "</style>\n",
       "<table border=\"1\" class=\"dataframe\">\n",
       "  <thead>\n",
       "    <tr style=\"text-align: right;\">\n",
       "      <th></th>\n",
       "      <th>Author</th>\n",
       "      <th>Count</th>\n",
       "    </tr>\n",
       "  </thead>\n",
       "  <tbody>\n",
       "    <tr>\n",
       "      <th>0</th>\n",
       "      <td>Marga G A Goris</td>\n",
       "      <td>5</td>\n",
       "    </tr>\n",
       "    <tr>\n",
       "      <th>1</th>\n",
       "      <td>Federico Costa</td>\n",
       "      <td>5</td>\n",
       "    </tr>\n",
       "    <tr>\n",
       "      <th>2</th>\n",
       "      <td>Rudy A Hartskeerl</td>\n",
       "      <td>5</td>\n",
       "    </tr>\n",
       "    <tr>\n",
       "      <th>3</th>\n",
       "      <td>Scott B Craig</td>\n",
       "      <td>4</td>\n",
       "    </tr>\n",
       "    <tr>\n",
       "      <th>4</th>\n",
       "      <td>Walter Lilenbaum</td>\n",
       "      <td>4</td>\n",
       "    </tr>\n",
       "    <tr>\n",
       "      <th>5</th>\n",
       "      <td>Lee D Smythe</td>\n",
       "      <td>3</td>\n",
       "    </tr>\n",
       "    <tr>\n",
       "      <th>6</th>\n",
       "      <td>Clebert José Alves</td>\n",
       "      <td>3</td>\n",
       "    </tr>\n",
       "    <tr>\n",
       "      <th>7</th>\n",
       "      <td>Cheng-Li Lin</td>\n",
       "      <td>3</td>\n",
       "    </tr>\n",
       "    <tr>\n",
       "      <th>8</th>\n",
       "      <td>Camila Hamond</td>\n",
       "      <td>3</td>\n",
       "    </tr>\n",
       "    <tr>\n",
       "      <th>9</th>\n",
       "      <td>Tamara Ricardo</td>\n",
       "      <td>3</td>\n",
       "    </tr>\n",
       "    <tr>\n",
       "      <th>10</th>\n",
       "      <td>Mathieu Picardeau</td>\n",
       "      <td>3</td>\n",
       "    </tr>\n",
       "    <tr>\n",
       "      <th>11</th>\n",
       "      <td>Albert I Ko</td>\n",
       "      <td>3</td>\n",
       "    </tr>\n",
       "    <tr>\n",
       "      <th>12</th>\n",
       "      <td>Marcos Bryan Heinemann</td>\n",
       "      <td>3</td>\n",
       "    </tr>\n",
       "    <tr>\n",
       "      <th>13</th>\n",
       "      <td>Jackie Benschop</td>\n",
       "      <td>3</td>\n",
       "    </tr>\n",
       "    <tr>\n",
       "      <th>14</th>\n",
       "      <td>Daniel H Paris</td>\n",
       "      <td>3</td>\n",
       "    </tr>\n",
       "    <tr>\n",
       "      <th>15</th>\n",
       "      <td>Colleen L Lau</td>\n",
       "      <td>3</td>\n",
       "    </tr>\n",
       "    <tr>\n",
       "      <th>16</th>\n",
       "      <td>Leila Sabrina Ullmann</td>\n",
       "      <td>3</td>\n",
       "    </tr>\n",
       "    <tr>\n",
       "      <th>17</th>\n",
       "      <td>Diego Figueiredo da Costa</td>\n",
       "      <td>3</td>\n",
       "    </tr>\n",
       "    <tr>\n",
       "      <th>18</th>\n",
       "      <td>Peter J Hotez</td>\n",
       "      <td>3</td>\n",
       "    </tr>\n",
       "    <tr>\n",
       "      <th>19</th>\n",
       "      <td>Fotini Fligou</td>\n",
       "      <td>2</td>\n",
       "    </tr>\n",
       "  </tbody>\n",
       "</table>\n",
       "</div>"
      ],
      "text/plain": [
       "                       Author  Count\n",
       "0             Marga G A Goris      5\n",
       "1              Federico Costa      5\n",
       "2           Rudy A Hartskeerl      5\n",
       "3               Scott B Craig      4\n",
       "4            Walter Lilenbaum      4\n",
       "5                Lee D Smythe      3\n",
       "6          Clebert José Alves      3\n",
       "7                Cheng-Li Lin      3\n",
       "8               Camila Hamond      3\n",
       "9              Tamara Ricardo      3\n",
       "10          Mathieu Picardeau      3\n",
       "11                Albert I Ko      3\n",
       "12     Marcos Bryan Heinemann      3\n",
       "13            Jackie Benschop      3\n",
       "14             Daniel H Paris      3\n",
       "15              Colleen L Lau      3\n",
       "16      Leila Sabrina Ullmann      3\n",
       "17  Diego Figueiredo da Costa      3\n",
       "18              Peter J Hotez      3\n",
       "19              Fotini Fligou      2"
      ]
     },
     "metadata": {},
     "output_type": "display_data"
    }
   ],
   "source": [
    "# Step 2: Create a full name for each author\n",
    "# Replace NaN values with an empty string and combine first name, last name, and initials\n",
    "authors_df['FullName'] = authors_df['AuthorForename'].fillna('') + ' ' + authors_df['AuthorLastname'].fillna('')\n",
    "\n",
    "# Step 3: Combine all authors for a given PMID\n",
    "# Group by PMID and join authors' full names into a single string\n",
    "author_fullnames = authors_df.groupby('PMID')['FullName'].apply(lambda x: ', '.join(x)).reset_index()\n",
    "\n",
    "# Step 4: Extract topic distribution scores for each article\n",
    "topic_distribution = lda.transform(X)\n",
    "\n",
    "# Step 5: Extract top articles for each topic based on relevance scores\n",
    "num_top_articles = 100  # Number of top articles to extract per topic\n",
    "\n",
    "top_articles_per_topic = {}\n",
    "\n",
    "for topic_idx in range(lda.n_components):\n",
    "    # Skip topic 4 (index 3) as requested\n",
    "    if topic_idx == 0 or topic_idx == 1 or topic_idx == 3:\n",
    "        continue\n",
    "\n",
    "    # Get the relevance scores for each article with respect to the current topic\n",
    "    topic_scores = topic_distribution[:, topic_idx]\n",
    "\n",
    "    # Get the indices of the top articles sorted by highest relevance\n",
    "    top_article_indices = topic_scores.argsort()[-num_top_articles:][::-1]\n",
    "\n",
    "    # Extract the titles and other info of the top articles for the current topic\n",
    "    top_articles = articles_df.iloc[top_article_indices][['Title', 'Year', 'PMID']]\n",
    "\n",
    "    # Extract authors' full names for the top articles\n",
    "    top_articles['Authors'] = top_articles['PMID'].map(\n",
    "        lambda pmid: author_fullnames[author_fullnames['PMID'] == pmid]['FullName'].values[0]\n",
    "    )\n",
    "\n",
    "    # Store the result in the dictionary\n",
    "    top_articles_per_topic[topic_idx] = top_articles\n",
    "\n",
    "# Step 6: Display the results for each topic and aggregate authors' names across all topics\n",
    "all_authors_series = pd.Series(dtype='str')\n",
    "\n",
    "for topic_idx, top_articles in top_articles_per_topic.items():\n",
    "    print(f\"Topic {topic_idx+1}:\")\n",
    "    display(top_articles[['Title', 'Authors', 'Year']])\n",
    "\n",
    "    # Collect authors from each topic\n",
    "    authors_series = top_articles['Authors'].str.split(', ', expand=True).stack()\n",
    "    all_authors_series = pd.concat([all_authors_series, authors_series], ignore_index=True)\n",
    "\n",
    "# Count the frequency of each author across all topics\n",
    "authors_count_total = all_authors_series.value_counts().reset_index()\n",
    "authors_count_total.columns = ['Author', 'Count']\n",
    "\n",
    "# Step 7: Display the total counts of authors sorted by frequency\n",
    "print(\"Total Author Frequency Across Topic 3,5,6:\")\n",
    "display(authors_count_total.head(20))\n"
   ]
  },
  {
   "cell_type": "code",
   "execution_count": 26,
   "metadata": {
    "colab": {
     "base_uri": "https://localhost:8080/",
     "height": 564
    },
    "executionInfo": {
     "elapsed": 1473,
     "status": "ok",
     "timestamp": 1737855073342,
     "user": {
      "displayName": "Yuri Kobuki",
      "userId": "11061684448908874128"
     },
     "user_tz": 0
    },
    "id": "PBt7QrmLOZn-",
    "outputId": "5fbacc32-4bf3-47e6-f189-110d3594119e"
   },
   "outputs": [
    {
     "data": {
      "image/png": "[encoded data removed]",
      "text/plain": [
       "<Figure size 1000x600 with 1 Axes>"
      ]
     },
     "metadata": {},
     "output_type": "display_data"
    }
   ],
   "source": [
    "# Plot the top 20 authors\n",
    "top_20_authors = authors_count_total.head(20)\n",
    "\n",
    "# Create the bar plot\n",
    "plt.figure(figsize=(10, 6))\n",
    "plt.barh(top_20_authors['Author'], top_20_authors['Count'], color='#ffd966')\n",
    "\n",
    "# Add labels and title\n",
    "plt.xlabel('Number of Articles')\n",
    "plt.ylabel('Author')\n",
    "plt.title('Top 20 Authors by Number of Articles')\n",
    "\n",
    "# Display the plot\n",
    "plt.gca().invert_yaxis()  # To display the highest count at the top\n",
    "plt.show()\n"
   ]
  },
  {
   "cell_type": "code",
   "execution_count": 27,
   "metadata": {
    "colab": {
     "base_uri": "https://localhost:8080/",
     "height": 1000
    },
    "executionInfo": {
     "elapsed": 2450,
     "status": "ok",
     "timestamp": 1737852072023,
     "user": {
      "displayName": "Yuri Kobuki",
      "userId": "11061684448908874128"
     },
     "user_tz": 0
    },
    "id": "vIQR4gg-TZ5x",
    "outputId": "ad351f50-0fb0-4de1-ddcc-bcd8fb1633cc"
   },
   "outputs": [
    {
     "name": "stdout",
     "output_type": "stream",
     "text": [
      "Topic 1: assay, test, pcr, diagnosis, elisa, leptospirosis, vaccine, detection, mat, igm\n",
      "Topic 2: sri, lanka, hantavirus, deer, zealand, cows, farm, bovine, dairy, herds\n",
      "Topic 3: leptospirosis, patients, severe, acute, clinical, case, pulmonary, renal, failure, fever\n",
      "Topic 4: leptospira, interrogans, proteins, protein, pathogenic, leptospiral, host, expression, cells, immune\n",
      "Topic 5: leptospirosis, leptospira, risk, disease, study, cases, animals, dogs, human, factors\n",
      "Topic 6: typhus, diseases, scrub, leptospirosis, health, infections, fever, malaria, india, review\n"
     ]
    },
    {
     "data": {
      "image/png": "[encoded data removed]",
      "text/plain": [
       "<Figure size 1200x600 with 1 Axes>"
      ]
     },
     "metadata": {},
     "output_type": "display_data"
    },
    {
     "name": "stdout",
     "output_type": "stream",
     "text": [
      "        Topic 1   Topic 2    Topic 3    Topic 4     Topic 5    Topic 6\n",
      "Year                                                                  \n",
      "1944   0.027814  0.027520   0.028085   0.199281    0.689672   0.027628\n",
      "1945   0.157720  0.030951   0.032183   0.716800    0.031251   0.031095\n",
      "1960   0.054114  0.053396   0.565566   0.053765    1.219310   0.053848\n",
      "1961   0.107050  0.106390   0.108041   0.341308    3.177790   0.159422\n",
      "1963   0.028295  0.028103   0.436832   0.450205    0.028350   0.028216\n",
      "1964   0.894154  0.054331   0.055507   0.054798    0.886785   0.054426\n",
      "1970   0.133448  0.132029   0.136205   1.737118    1.728610   0.132590\n",
      "1976   0.066353  0.065972   0.066483   0.067077    1.667944   0.066172\n",
      "1977   0.032056  0.032736   0.031943   0.031842    0.839583   0.031841\n",
      "1981   0.029501  0.029394   0.029713   0.029475    0.852364   0.029554\n",
      "1982   0.345783  0.100323   0.099933   0.099541    3.254903   0.099517\n",
      "1984   0.041807  0.040954   0.041419   0.041985    1.792889   0.040946\n",
      "1985   0.368580  0.102130   0.104761   0.120998    3.201328   0.102203\n",
      "1986   0.121086  0.121461   0.778488   0.120725    2.001864   0.856375\n",
      "1987   0.464841  0.023284   0.023447   0.023614    0.441471   0.023343\n",
      "1988   0.050592  0.050269   0.050740   0.050473    1.747331   0.050595\n",
      "1991   0.021366  0.021043   0.023918   0.021223    0.891386   0.021065\n",
      "1992   0.365215  0.032329   0.032882   0.032601    0.504512   0.032462\n",
      "1994   0.029135  0.028925   0.029232   0.029142    0.854511   0.029054\n",
      "1997   1.321973  0.080271   0.483018   0.521243    0.512321   0.081174\n",
      "1998   1.583396  0.435710   0.132919   1.133772    0.580931   0.133272\n",
      "1999   2.003267  0.506528   5.226466   3.062680    5.691585   0.509474\n",
      "2000  10.961384  1.753246  21.271882   7.944091   18.202095   3.867303\n",
      "2001   9.573058  1.343421  15.333172   7.203028   15.044443   2.502879\n",
      "2002  12.359493  1.933467  21.592512   6.576717   25.710390   2.827421\n",
      "2003  11.986418  2.183047  26.876591   7.295357   24.563162   4.095425\n",
      "2004  17.008705  2.176211  23.784439   9.517273   19.739289   4.774083\n",
      "2005  16.130711  2.570474  26.207162  13.361516   30.621385   5.108752\n",
      "2006  16.563854  2.477988  22.504537  13.892291   29.229404   6.331926\n",
      "2007  19.942104  2.876890  28.762896  15.384952   28.100862   4.932295\n",
      "2008  18.479797  3.413404  28.000039  18.608391   43.582178   7.916191\n",
      "2009  14.472415  3.089899  26.807778  24.334249   32.149844   7.145815\n",
      "2010  16.864109  4.522120  35.460012  28.073145   44.813525  10.267089\n",
      "2011  21.108403  4.951139  28.257181  28.750361   44.392967  10.539949\n",
      "2012  21.710176  4.344501  32.043465  21.503632   51.939862  11.458362\n",
      "2013  26.016957  4.329560  32.194896  22.696141   63.548078  13.214368\n",
      "2014  29.441167  6.729556  50.421555  31.804134   81.981449  19.622139\n",
      "2015  22.479642  5.559578  36.521594  31.030460   69.302406  19.106320\n",
      "2016  21.964239  5.074719  29.957816  27.232958   63.187619  11.582650\n",
      "2017  16.606788  4.032030  24.127764  29.066867   67.645117  10.521434\n",
      "2018  26.435679  5.824292  31.953494  21.102313   91.283383  15.400838\n",
      "2019  19.777504  5.746677  42.210675  22.057542   78.315026  13.892575\n",
      "2020  20.473468  6.385667  42.282162  30.174508   91.176405  11.507791\n",
      "2021  27.237396  7.360420  52.339038  23.045175   79.794014  17.223957\n",
      "2022  26.077236  6.366128  37.192859  24.064041  100.774872  19.524863\n",
      "2023  18.430146  4.980208  47.341340  24.875932   63.841800  17.530575\n",
      "2024   0.032980  0.032657   0.033829   0.034225    0.833545   0.032763\n"
     ]
    },
    {
     "data": {
      "application/vnd.plotly.v1+json": {
       "config": {
        "plotlyServerURL": "https://plot.ly"
       },
       "data": [
        {
         "alignmentgroup": "True",
         "hovertemplate": "Topics=Topic 1<br>Year=%{x}<br>Proportion of Topics=%{y}<extra></extra>",
         "legendgroup": "Topic 1",
         "marker": {
          "color": "#b4a7d6",
          "pattern": {
           "shape": ""
          }
         },
         "name": "Topic 1: assay, test, pcr, diagnosis, elisa, leptospirosis, vaccine, detection, mat, igm",
         "offsetgroup": "Topic 1",
         "orientation": "v",
         "showlegend": true,
         "textposition": "auto",
         "type": "bar",
         "x": [
          1944,
          1945,
          1960,
          1961,
          1963,
          1964,
          1970,
          1976,
          1977,
          1981,
          1982,
          1984,
          1985,
          1986,
          1987,
          1988,
          1991,
          1992,
          1994,
          1997,
          1998,
          1999,
          2000,
          2001,
          2002,
          2003,
          2004,
          2005,
          2006,
          2007,
          2008,
          2009,
          2010,
          2011,
          2012,
          2013,
          2014,
          2015,
          2016,
          2017,
          2018,
          2019,
          2020,
          2021,
          2022,
          2023,
          2024
         ],
         "xaxis": "x",
         "y": [
          0.027813796251794434,
          0.15772020641106346,
          0.027057141153447085,
          0.026762437786839607,
          0.028294834060361856,
          0.44707702864690635,
          0.03336202607601729,
          0.033176318748269984,
          0.032055930941122295,
          0.029500893691534923,
          0.08644581343599325,
          0.020903429017486874,
          0.09214504182041827,
          0.030271464766864115,
          0.46484115675482107,
          0.025296127755736437,
          0.021366350490935906,
          0.3652147586374907,
          0.029134843883855236,
          0.4406576768299611,
          0.3958489189123511,
          0.11783921560621569,
          0.17127162007119265,
          0.1877070142272616,
          0.1740773601058644,
          0.15566776652798894,
          0.22089227233849354,
          0.17160330816893166,
          0.18202037626319756,
          0.1994210427853374,
          0.15399831091652744,
          0.13400384006847996,
          0.12045792338255755,
          0.15295944443220602,
          0.15181941350939848,
          0.16059850098036854,
          0.13382348818647835,
          0.12217196981596178,
          0.13813986516071716,
          0.1092551818787099,
          0.13768583015977562,
          0.10866760637455604,
          0.10135379956673982,
          0.13158162386979685,
          0.12185624279367617,
          0.10412511811291106,
          0.032980209970734656
         ],
         "yaxis": "y"
        },
        {
         "alignmentgroup": "True",
         "hovertemplate": "Topics=Topic 2<br>Year=%{x}<br>Proportion of Topics=%{y}<extra></extra>",
         "legendgroup": "Topic 2",
         "marker": {
          "color": "#c27ba0",
          "pattern": {
           "shape": ""
          }
         },
         "name": "Topic 2: sri, lanka, hantavirus, deer, zealand, cows, farm, bovine, dairy, herds",
         "offsetgroup": "Topic 2",
         "orientation": "v",
         "showlegend": true,
         "textposition": "auto",
         "type": "bar",
         "x": [
          1944,
          1945,
          1960,
          1961,
          1963,
          1964,
          1970,
          1976,
          1977,
          1981,
          1982,
          1984,
          1985,
          1986,
          1987,
          1988,
          1991,
          1992,
          1994,
          1997,
          1998,
          1999,
          2000,
          2001,
          2002,
          2003,
          2004,
          2005,
          2006,
          2007,
          2008,
          2009,
          2010,
          2011,
          2012,
          2013,
          2014,
          2015,
          2016,
          2017,
          2018,
          2019,
          2020,
          2021,
          2022,
          2023,
          2024
         ],
         "xaxis": "x",
         "y": [
          0.027519925630756725,
          0.03095065201145935,
          0.026698202047580683,
          0.026597564054944768,
          0.028103031020181763,
          0.02716541512915876,
          0.03300718400217651,
          0.03298609299176129,
          0.03273599351012085,
          0.029394292182125692,
          0.025080698442981234,
          0.020477217630585253,
          0.025532519136281576,
          0.03036529006979225,
          0.023283815699801882,
          0.025134736499850235,
          0.021042593966605454,
          0.03232884840008356,
          0.028925383589114086,
          0.026757067119185393,
          0.10892750665455453,
          0.029795762309203968,
          0.02739447081811169,
          0.026341581719819068,
          0.02723193292334955,
          0.02835126021287929,
          0.028262483751425004,
          0.027345470289656244,
          0.02723063842360089,
          0.028768899842565792,
          0.028445029311956818,
          0.028610175984896798,
          0.03230085750694764,
          0.035877816256224944,
          0.03038112896918637,
          0.026725676203784732,
          0.03058889082263861,
          0.030215095561235777,
          0.03191647028322088,
          0.02652651000689569,
          0.030334856450366793,
          0.03157514889171689,
          0.03161221197414733,
          0.03555758345180497,
          0.029748263439992168,
          0.028136765650778016,
          0.03265744594528247
         ],
         "yaxis": "y"
        },
        {
         "alignmentgroup": "True",
         "hovertemplate": "Topics=Topic 3<br>Year=%{x}<br>Proportion of Topics=%{y}<extra></extra>",
         "legendgroup": "Topic 3",
         "marker": {
          "color": "#9fc5e8",
          "pattern": {
           "shape": ""
          }
         },
         "name": "Topic 3: leptospirosis, patients, severe, acute, clinical, case, pulmonary, renal, failure, fever",
         "offsetgroup": "Topic 3",
         "orientation": "v",
         "showlegend": true,
         "textposition": "auto",
         "type": "bar",
         "x": [
          1944,
          1945,
          1960,
          1961,
          1963,
          1964,
          1970,
          1976,
          1977,
          1981,
          1982,
          1984,
          1985,
          1986,
          1987,
          1988,
          1991,
          1992,
          1994,
          1997,
          1998,
          1999,
          2000,
          2001,
          2002,
          2003,
          2004,
          2005,
          2006,
          2007,
          2008,
          2009,
          2010,
          2011,
          2012,
          2013,
          2014,
          2015,
          2016,
          2017,
          2018,
          2019,
          2020,
          2021,
          2022,
          2023,
          2024
         ],
         "xaxis": "x",
         "y": [
          0.0280851023708047,
          0.03218275682814033,
          0.28278308567140553,
          0.027010167327606593,
          0.43683159415521594,
          0.027753434103029898,
          0.03405125082122086,
          0.03324137717190312,
          0.031942790889268755,
          0.02971282901663395,
          0.02498329887963879,
          0.020709432884334588,
          0.026190127038736688,
          0.19462191647525515,
          0.023446817261746234,
          0.025369812363594056,
          0.023918141967583607,
          0.03288184689710968,
          0.0292320579462364,
          0.16100595047061403,
          0.03322983734820291,
          0.3074391696122569,
          0.332373151398001,
          0.30065043488322124,
          0.3041198824431965,
          0.3490466337795069,
          0.30888881608444174,
          0.27879959211457145,
          0.24730260209411903,
          0.2876289624135553,
          0.23333366133943903,
          0.24822016647133507,
          0.25328579923542627,
          0.2047621833587139,
          0.2240801773052407,
          0.19873392572463067,
          0.2291888866339377,
          0.19848692431386147,
          0.18841393445627458,
          0.15873529218763405,
          0.16642444581288401,
          0.23192678586741333,
          0.20931763245683474,
          0.25284559248862604,
          0.1737984086158758,
          0.2674651951336406,
          0.033829358298250636
         ],
         "yaxis": "y"
        },
        {
         "alignmentgroup": "True",
         "hovertemplate": "Topics=Topic 4<br>Year=%{x}<br>Proportion of Topics=%{y}<extra></extra>",
         "legendgroup": "Topic 4",
         "marker": {
          "color": "#b6d7a8",
          "pattern": {
           "shape": ""
          }
         },
         "name": "Topic 4: leptospira, interrogans, proteins, protein, pathogenic, leptospiral, host, expression, cells, immune",
         "offsetgroup": "Topic 4",
         "orientation": "v",
         "showlegend": true,
         "textposition": "auto",
         "type": "bar",
         "x": [
          1944,
          1945,
          1960,
          1961,
          1963,
          1964,
          1970,
          1976,
          1977,
          1981,
          1982,
          1984,
          1985,
          1986,
          1987,
          1988,
          1991,
          1992,
          1994,
          1997,
          1998,
          1999,
          2000,
          2001,
          2002,
          2003,
          2004,
          2005,
          2006,
          2007,
          2008,
          2009,
          2010,
          2011,
          2012,
          2013,
          2014,
          2015,
          2016,
          2017,
          2018,
          2019,
          2020,
          2021,
          2022,
          2023,
          2024
         ],
         "xaxis": "x",
         "y": [
          0.19928125488244613,
          0.7168004561128704,
          0.02688226655073025,
          0.08532694121128093,
          0.4502046302656839,
          0.027398935661631055,
          0.4342795485907823,
          0.03353859708700116,
          0.03184170299529967,
          0.029474904689209522,
          0.024885174958347824,
          0.020992746462197228,
          0.03024943015805197,
          0.030181372667520346,
          0.023613735828270532,
          0.02523634818979572,
          0.02122250810743937,
          0.032600887216902734,
          0.029142306355559647,
          0.17374774003780177,
          0.28344302130851945,
          0.18015767310820707,
          0.12412641899041212,
          0.14123583890863298,
          0.09262982213317414,
          0.09474488985333619,
          0.12360094175743212,
          0.1421437867148473,
          0.15266254360295803,
          0.15384951995895368,
          0.1550699290575689,
          0.22531712425898612,
          0.20052246432855889,
          0.2083359478481843,
          0.15037505194422404,
          0.1400996347397944,
          0.14456424380118962,
          0.16864380702348497,
          0.1712764682131559,
          0.19122939002605113,
          0.10990788207053871,
          0.12119528774069578,
          0.14937875100235373,
          0.11132934662122175,
          0.11244879017000456,
          0.14054198897291617,
          0.0342245328493824
         ],
         "yaxis": "y"
        },
        {
         "alignmentgroup": "True",
         "hovertemplate": "Topics=Topic 5<br>Year=%{x}<br>Proportion of Topics=%{y}<extra></extra>",
         "legendgroup": "Topic 5",
         "marker": {
          "color": "#ffd966",
          "pattern": {
           "shape": ""
          }
         },
         "name": "Topic 5: leptospirosis, leptospira, risk, disease, study, cases, animals, dogs, human, factors",
         "offsetgroup": "Topic 5",
         "orientation": "v",
         "showlegend": true,
         "textposition": "auto",
         "type": "bar",
         "x": [
          1944,
          1945,
          1960,
          1961,
          1963,
          1964,
          1970,
          1976,
          1977,
          1981,
          1982,
          1984,
          1985,
          1986,
          1987,
          1988,
          1991,
          1992,
          1994,
          1997,
          1998,
          1999,
          2000,
          2001,
          2002,
          2003,
          2004,
          2005,
          2006,
          2007,
          2008,
          2009,
          2010,
          2011,
          2012,
          2013,
          2014,
          2015,
          2016,
          2017,
          2018,
          2019,
          2020,
          2021,
          2022,
          2023,
          2024
         ],
         "xaxis": "x",
         "y": [
          0.6896719914336467,
          0.03125066714350076,
          0.6096551933279183,
          0.7944474595861927,
          0.028350186717743406,
          0.44339227627711997,
          0.43215259699073627,
          0.833971801450752,
          0.8395828523803869,
          0.8523635117210812,
          0.8137258009806889,
          0.8964444064066661,
          0.800332113917211,
          0.5004660966353126,
          0.4414714587606897,
          0.8736656280755393,
          0.8913855104902054,
          0.5045115407588706,
          0.8545114193551597,
          0.1707735842811173,
          0.14523264223678434,
          0.3347991326364855,
          0.28440773448671625,
          0.2949890729834963,
          0.36211817033593235,
          0.3190021101417797,
          0.256354408337752,
          0.32575941272590847,
          0.3212022405524645,
          0.2810086208815634,
          0.3631848148830027,
          0.2976837385894508,
          0.3200966063643732,
          0.321688163543978,
          0.36321582012367115,
          0.39227208685714726,
          0.372642951551262,
          0.3766435101741885,
          0.3974064066815856,
          0.44503366705418257,
          0.4754342879774432,
          0.43030234245832666,
          0.4513683404088883,
          0.385478330046219,
          0.4709106175955402,
          0.3606881380587254,
          0.8335451052259686
         ],
         "yaxis": "y"
        },
        {
         "alignmentgroup": "True",
         "hovertemplate": "Topics=Topic 6<br>Year=%{x}<br>Proportion of Topics=%{y}<extra></extra>",
         "legendgroup": "Topic 6",
         "marker": {
          "color": "#f4cccc",
          "pattern": {
           "shape": ""
          }
         },
         "name": "Topic 6: typhus, diseases, scrub, leptospirosis, health, infections, fever, malaria, india, review",
         "offsetgroup": "Topic 6",
         "orientation": "v",
         "showlegend": true,
         "textposition": "auto",
         "type": "bar",
         "x": [
          1944,
          1945,
          1960,
          1961,
          1963,
          1964,
          1970,
          1976,
          1977,
          1981,
          1982,
          1984,
          1985,
          1986,
          1987,
          1988,
          1991,
          1992,
          1994,
          1997,
          1998,
          1999,
          2000,
          2001,
          2002,
          2003,
          2004,
          2005,
          2006,
          2007,
          2008,
          2009,
          2010,
          2011,
          2012,
          2013,
          2014,
          2015,
          2016,
          2017,
          2018,
          2019,
          2020,
          2021,
          2022,
          2023,
          2024
         ],
         "xaxis": "x",
         "y": [
          0.02762792943055125,
          0.031095261492965594,
          0.02692411124891819,
          0.03985543003313543,
          0.028215723780813138,
          0.02721291018215407,
          0.03314739351906673,
          0.033085812550312454,
          0.03184072928380146,
          0.02955356869941479,
          0.024879213302350045,
          0.020472767598729975,
          0.025550767929300378,
          0.21409385938525546,
          0.023343015694670524,
          0.025297347115484183,
          0.02106489497723031,
          0.03246211808954274,
          0.029053988870074904,
          0.02705798126132036,
          0.033318073539587635,
          0.02996904672763084,
          0.06042660423556626,
          0.04907605727756881,
          0.03982283205848311,
          0.05318733948450897,
          0.062001077730455635,
          0.0543484299860849,
          0.06958159906366,
          0.049322954118024384,
          0.06596825449150509,
          0.06616495462685126,
          0.07333634918213645,
          0.07637644456069284,
          0.08012840814827925,
          0.08157017549427444,
          0.08919153900449368,
          0.10383869311126749,
          0.07284685520504593,
          0.06921995884652668,
          0.08021269752899166,
          0.0763328286672913,
          0.056969264591036115,
          0.08320752352233134,
          0.09123767738491108,
          0.09904279407102883,
          0.03276334771038112
         ],
         "yaxis": "y"
        }
       ],
       "layout": {
        "barmode": "stack",
        "height": 600,
        "hovermode": "x unified",
        "legend": {
         "title": {
          "text": "Topics"
         },
         "tracegroupgap": 0,
         "xanchor": "center",
         "yanchor": "bottom"
        },
        "template": {
         "data": {
          "bar": [
           {
            "error_x": {
             "color": "#2a3f5f"
            },
            "error_y": {
             "color": "#2a3f5f"
            },
            "marker": {
             "line": {
              "color": "white",
              "width": 0.5
             },
             "pattern": {
              "fillmode": "overlay",
              "size": 10,
              "solidity": 0.2
             }
            },
            "type": "bar"
           }
          ],
          "barpolar": [
           {
            "marker": {
             "line": {
              "color": "white",
              "width": 0.5
             },
             "pattern": {
              "fillmode": "overlay",
              "size": 10,
              "solidity": 0.2
             }
            },
            "type": "barpolar"
           }
          ],
          "carpet": [
           {
            "aaxis": {
             "endlinecolor": "#2a3f5f",
             "gridcolor": "#C8D4E3",
             "linecolor": "#C8D4E3",
             "minorgridcolor": "#C8D4E3",
             "startlinecolor": "#2a3f5f"
            },
            "baxis": {
             "endlinecolor": "#2a3f5f",
             "gridcolor": "#C8D4E3",
             "linecolor": "#C8D4E3",
             "minorgridcolor": "#C8D4E3",
             "startlinecolor": "#2a3f5f"
            },
            "type": "carpet"
           }
          ],
          "choropleth": [
           {
            "colorbar": {
             "outlinewidth": 0,
             "ticks": ""
            },
            "type": "choropleth"
           }
          ],
          "contour": [
           {
            "colorbar": {
             "outlinewidth": 0,
             "ticks": ""
            },
            "colorscale": [
             [
              0,
              "#0d0887"
             ],
             [
              0.1111111111111111,
              "#46039f"
             ],
             [
              0.2222222222222222,
              "#7201a8"
             ],
             [
              0.3333333333333333,
              "#9c179e"
             ],
             [
              0.4444444444444444,
              "#bd3786"
             ],
             [
              0.5555555555555556,
              "#d8576b"
             ],
             [
              0.6666666666666666,
              "#ed7953"
             ],
             [
              0.7777777777777778,
              "#fb9f3a"
             ],
             [
              0.8888888888888888,
              "#fdca26"
             ],
             [
              1,
              "#f0f921"
             ]
            ],
            "type": "contour"
           }
          ],
          "contourcarpet": [
           {
            "colorbar": {
             "outlinewidth": 0,
             "ticks": ""
            },
            "type": "contourcarpet"
           }
          ],
          "heatmap": [
           {
            "colorbar": {
             "outlinewidth": 0,
             "ticks": ""
            },
            "colorscale": [
             [
              0,
              "#0d0887"
             ],
             [
              0.1111111111111111,
              "#46039f"
             ],
             [
              0.2222222222222222,
              "#7201a8"
             ],
             [
              0.3333333333333333,
              "#9c179e"
             ],
             [
              0.4444444444444444,
              "#bd3786"
             ],
             [
              0.5555555555555556,
              "#d8576b"
             ],
             [
              0.6666666666666666,
              "#ed7953"
             ],
             [
              0.7777777777777778,
              "#fb9f3a"
             ],
             [
              0.8888888888888888,
              "#fdca26"
             ],
             [
              1,
              "#f0f921"
             ]
            ],
            "type": "heatmap"
           }
          ],
          "heatmapgl": [
           {
            "colorbar": {
             "outlinewidth": 0,
             "ticks": ""
            },
            "colorscale": [
             [
              0,
              "#0d0887"
             ],
             [
              0.1111111111111111,
              "#46039f"
             ],
             [
              0.2222222222222222,
              "#7201a8"
             ],
             [
              0.3333333333333333,
              "#9c179e"
             ],
             [
              0.4444444444444444,
              "#bd3786"
             ],
             [
              0.5555555555555556,
              "#d8576b"
             ],
             [
              0.6666666666666666,
              "#ed7953"
             ],
             [
              0.7777777777777778,
              "#fb9f3a"
             ],
             [
              0.8888888888888888,
              "#fdca26"
             ],
             [
              1,
              "#f0f921"
             ]
            ],
            "type": "heatmapgl"
           }
          ],
          "histogram": [
           {
            "marker": {
             "pattern": {
              "fillmode": "overlay",
              "size": 10,
              "solidity": 0.2
             }
            },
            "type": "histogram"
           }
          ],
          "histogram2d": [
           {
            "colorbar": {
             "outlinewidth": 0,
             "ticks": ""
            },
            "colorscale": [
             [
              0,
              "#0d0887"
             ],
             [
              0.1111111111111111,
              "#46039f"
             ],
             [
              0.2222222222222222,
              "#7201a8"
             ],
             [
              0.3333333333333333,
              "#9c179e"
             ],
             [
              0.4444444444444444,
              "#bd3786"
             ],
             [
              0.5555555555555556,
              "#d8576b"
             ],
             [
              0.6666666666666666,
              "#ed7953"
             ],
             [
              0.7777777777777778,
              "#fb9f3a"
             ],
             [
              0.8888888888888888,
              "#fdca26"
             ],
             [
              1,
              "#f0f921"
             ]
            ],
            "type": "histogram2d"
           }
          ],
          "histogram2dcontour": [
           {
            "colorbar": {
             "outlinewidth": 0,
             "ticks": ""
            },
            "colorscale": [
             [
              0,
              "#0d0887"
             ],
             [
              0.1111111111111111,
              "#46039f"
             ],
             [
              0.2222222222222222,
              "#7201a8"
             ],
             [
              0.3333333333333333,
              "#9c179e"
             ],
             [
              0.4444444444444444,
              "#bd3786"
             ],
             [
              0.5555555555555556,
              "#d8576b"
             ],
             [
              0.6666666666666666,
              "#ed7953"
             ],
             [
              0.7777777777777778,
              "#fb9f3a"
             ],
             [
              0.8888888888888888,
              "#fdca26"
             ],
             [
              1,
              "#f0f921"
             ]
            ],
            "type": "histogram2dcontour"
           }
          ],
          "mesh3d": [
           {
            "colorbar": {
             "outlinewidth": 0,
             "ticks": ""
            },
            "type": "mesh3d"
           }
          ],
          "parcoords": [
           {
            "line": {
             "colorbar": {
              "outlinewidth": 0,
              "ticks": ""
             }
            },
            "type": "parcoords"
           }
          ],
          "pie": [
           {
            "automargin": true,
            "type": "pie"
           }
          ],
          "scatter": [
           {
            "fillpattern": {
             "fillmode": "overlay",
             "size": 10,
             "solidity": 0.2
            },
            "type": "scatter"
           }
          ],
          "scatter3d": [
           {
            "line": {
             "colorbar": {
              "outlinewidth": 0,
              "ticks": ""
             }
            },
            "marker": {
             "colorbar": {
              "outlinewidth": 0,
              "ticks": ""
             }
            },
            "type": "scatter3d"
           }
          ],
          "scattercarpet": [
           {
            "marker": {
             "colorbar": {
              "outlinewidth": 0,
              "ticks": ""
             }
            },
            "type": "scattercarpet"
           }
          ],
          "scattergeo": [
           {
            "marker": {
             "colorbar": {
              "outlinewidth": 0,
              "ticks": ""
             }
            },
            "type": "scattergeo"
           }
          ],
          "scattergl": [
           {
            "marker": {
             "colorbar": {
              "outlinewidth": 0,
              "ticks": ""
             }
            },
            "type": "scattergl"
           }
          ],
          "scattermapbox": [
           {
            "marker": {
             "colorbar": {
              "outlinewidth": 0,
              "ticks": ""
             }
            },
            "type": "scattermapbox"
           }
          ],
          "scatterpolar": [
           {
            "marker": {
             "colorbar": {
              "outlinewidth": 0,
              "ticks": ""
             }
            },
            "type": "scatterpolar"
           }
          ],
          "scatterpolargl": [
           {
            "marker": {
             "colorbar": {
              "outlinewidth": 0,
              "ticks": ""
             }
            },
            "type": "scatterpolargl"
           }
          ],
          "scatterternary": [
           {
            "marker": {
             "colorbar": {
              "outlinewidth": 0,
              "ticks": ""
             }
            },
            "type": "scatterternary"
           }
          ],
          "surface": [
           {
            "colorbar": {
             "outlinewidth": 0,
             "ticks": ""
            },
            "colorscale": [
             [
              0,
              "#0d0887"
             ],
             [
              0.1111111111111111,
              "#46039f"
             ],
             [
              0.2222222222222222,
              "#7201a8"
             ],
             [
              0.3333333333333333,
              "#9c179e"
             ],
             [
              0.4444444444444444,
              "#bd3786"
             ],
             [
              0.5555555555555556,
              "#d8576b"
             ],
             [
              0.6666666666666666,
              "#ed7953"
             ],
             [
              0.7777777777777778,
              "#fb9f3a"
             ],
             [
              0.8888888888888888,
              "#fdca26"
             ],
             [
              1,
              "#f0f921"
             ]
            ],
            "type": "surface"
           }
          ],
          "table": [
           {
            "cells": {
             "fill": {
              "color": "#EBF0F8"
             },
             "line": {
              "color": "white"
             }
            },
            "header": {
             "fill": {
              "color": "#C8D4E3"
             },
             "line": {
              "color": "white"
             }
            },
            "type": "table"
           }
          ]
         },
         "layout": {
          "annotationdefaults": {
           "arrowcolor": "#2a3f5f",
           "arrowhead": 0,
           "arrowwidth": 1
          },
          "autotypenumbers": "strict",
          "coloraxis": {
           "colorbar": {
            "outlinewidth": 0,
            "ticks": ""
           }
          },
          "colorscale": {
           "diverging": [
            [
             0,
             "#8e0152"
            ],
            [
             0.1,
             "#c51b7d"
            ],
            [
             0.2,
             "#de77ae"
            ],
            [
             0.3,
             "#f1b6da"
            ],
            [
             0.4,
             "#fde0ef"
            ],
            [
             0.5,
             "#f7f7f7"
            ],
            [
             0.6,
             "#e6f5d0"
            ],
            [
             0.7,
             "#b8e186"
            ],
            [
             0.8,
             "#7fbc41"
            ],
            [
             0.9,
             "#4d9221"
            ],
            [
             1,
             "#276419"
            ]
           ],
           "sequential": [
            [
             0,
             "#0d0887"
            ],
            [
             0.1111111111111111,
             "#46039f"
            ],
            [
             0.2222222222222222,
             "#7201a8"
            ],
            [
             0.3333333333333333,
             "#9c179e"
            ],
            [
             0.4444444444444444,
             "#bd3786"
            ],
            [
             0.5555555555555556,
             "#d8576b"
            ],
            [
             0.6666666666666666,
             "#ed7953"
            ],
            [
             0.7777777777777778,
             "#fb9f3a"
            ],
            [
             0.8888888888888888,
             "#fdca26"
            ],
            [
             1,
             "#f0f921"
            ]
           ],
           "sequentialminus": [
            [
             0,
             "#0d0887"
            ],
            [
             0.1111111111111111,
             "#46039f"
            ],
            [
             0.2222222222222222,
             "#7201a8"
            ],
            [
             0.3333333333333333,
             "#9c179e"
            ],
            [
             0.4444444444444444,
             "#bd3786"
            ],
            [
             0.5555555555555556,
             "#d8576b"
            ],
            [
             0.6666666666666666,
             "#ed7953"
            ],
            [
             0.7777777777777778,
             "#fb9f3a"
            ],
            [
             0.8888888888888888,
             "#fdca26"
            ],
            [
             1,
             "#f0f921"
            ]
           ]
          },
          "colorway": [
           "#636efa",
           "#EF553B",
           "#00cc96",
           "#ab63fa",
           "#FFA15A",
           "#19d3f3",
           "#FF6692",
           "#B6E880",
           "#FF97FF",
           "#FECB52"
          ],
          "font": {
           "color": "#2a3f5f"
          },
          "geo": {
           "bgcolor": "white",
           "lakecolor": "white",
           "landcolor": "white",
           "showlakes": true,
           "showland": true,
           "subunitcolor": "#C8D4E3"
          },
          "hoverlabel": {
           "align": "left"
          },
          "hovermode": "closest",
          "mapbox": {
           "style": "light"
          },
          "paper_bgcolor": "white",
          "plot_bgcolor": "white",
          "polar": {
           "angularaxis": {
            "gridcolor": "#EBF0F8",
            "linecolor": "#EBF0F8",
            "ticks": ""
           },
           "bgcolor": "white",
           "radialaxis": {
            "gridcolor": "#EBF0F8",
            "linecolor": "#EBF0F8",
            "ticks": ""
           }
          },
          "scene": {
           "xaxis": {
            "backgroundcolor": "white",
            "gridcolor": "#DFE8F3",
            "gridwidth": 2,
            "linecolor": "#EBF0F8",
            "showbackground": true,
            "ticks": "",
            "zerolinecolor": "#EBF0F8"
           },
           "yaxis": {
            "backgroundcolor": "white",
            "gridcolor": "#DFE8F3",
            "gridwidth": 2,
            "linecolor": "#EBF0F8",
            "showbackground": true,
            "ticks": "",
            "zerolinecolor": "#EBF0F8"
           },
           "zaxis": {
            "backgroundcolor": "white",
            "gridcolor": "#DFE8F3",
            "gridwidth": 2,
            "linecolor": "#EBF0F8",
            "showbackground": true,
            "ticks": "",
            "zerolinecolor": "#EBF0F8"
           }
          },
          "shapedefaults": {
           "line": {
            "color": "#2a3f5f"
           }
          },
          "ternary": {
           "aaxis": {
            "gridcolor": "#DFE8F3",
            "linecolor": "#A2B1C6",
            "ticks": ""
           },
           "baxis": {
            "gridcolor": "#DFE8F3",
            "linecolor": "#A2B1C6",
            "ticks": ""
           },
           "bgcolor": "white",
           "caxis": {
            "gridcolor": "#DFE8F3",
            "linecolor": "#A2B1C6",
            "ticks": ""
           }
          },
          "title": {
           "x": 0.05
          },
          "xaxis": {
           "automargin": true,
           "gridcolor": "#EBF0F8",
           "linecolor": "#EBF0F8",
           "ticks": "",
           "title": {
            "standoff": 15
           },
           "zerolinecolor": "#EBF0F8",
           "zerolinewidth": 2
          },
          "yaxis": {
           "automargin": true,
           "gridcolor": "#EBF0F8",
           "linecolor": "#EBF0F8",
           "ticks": "",
           "title": {
            "standoff": 15
           },
           "zerolinecolor": "#EBF0F8",
           "zerolinewidth": 2
          }
         }
        },
        "title": {
         "text": "Proportion of Topics Over Time by Year"
        },
        "width": 1200,
        "xaxis": {
         "anchor": "y",
         "domain": [
          0,
          1
         ],
         "title": {
          "text": "Year"
         }
        },
        "yaxis": {
         "anchor": "x",
         "domain": [
          0,
          1
         ],
         "title": {
          "text": "Proportion of Topics"
         }
        }
       }
      }
     },
     "metadata": {},
     "output_type": "display_data"
    }
   ],
   "source": [
    "\"\"\"\n",
    "Plots\n",
    "\"\"\"\n",
    "# Group the topic distribution by year and calculate the total number of articles per topic per year\n",
    "articles_df['Year'] = articles_df['Year'].astype(int)\n",
    "\n",
    "topic_by_year = pd.DataFrame(topic_distribution, columns=[f'Topic {i+1}' for i in range(lda.n_components)])\n",
    "topic_by_year['Year'] = articles_df['Year']\n",
    "topic_by_year_count = topic_by_year.groupby('Year').sum()  # Total number of articles for each topic per year\n",
    "topic_by_year_proportion = topic_by_year.groupby('Year').mean()  # Average proportion of topics per year\n",
    "\n",
    "# Extracting the top words for each topic\n",
    "feature_names = tfidf_vectorizer.get_feature_names_out()\n",
    "topic_words = []\n",
    "for topic_idx, topic in enumerate(lda.components_):\n",
    "    top_words_idx = topic.argsort()[:-11:-1]  # Get top 10 words for each topic\n",
    "    top_words = [feature_names[i] for i in top_words_idx]\n",
    "    topic_words.append(top_words)\n",
    "\n",
    "# Topic summaries (short descriptions based on top words)\n",
    "topic_summaries = {}\n",
    "for i, words in enumerate(topic_words):\n",
    "    summary = f\"Topic {i+1}: \" + \", \".join(words)  # Create summary from top 10 words\n",
    "    topic_summaries[i] = summary\n",
    "    print(summary)\n",
    "\n",
    "\n",
    "\"\"\" 1. Line Plot: Number of articles for each topic by year \"\"\"\n",
    "\n",
    "# Muted/soft colors for the line plot\n",
    "color_sequence = [\n",
    "    '#b4a7d6',  # Light Purple\n",
    "    '#c27ba0',  # Greige (Grayish Beige)\n",
    "    '#9fc5e8',  # Light Blue\n",
    "    '#b6d7a8',  # Light Green\n",
    "    '#ffd966',  # Dark Yellow\n",
    "    '#f4cccc',  # Light Pink\n",
    "    '#ce7e00',  # Dark Brown\n",
    "    '#d9d9d6',  # Light Gray\n",
    "    '#444444',  # Dark Gray\n",
    "    '#a52a2a',  # Brown\n",
    "]\n",
    "\n",
    "# Ensure color_sequence matches the number of topics by repeating or trimming the list\n",
    "color_sequence = (color_sequence * (lda.n_components // len(color_sequence) + 1))[:lda.n_components]\n",
    "\n",
    "plt.figure(figsize=(12, 6))\n",
    "for i, col in enumerate(topic_by_year_count.columns):\n",
    "    plt.plot(topic_by_year_count.index, topic_by_year_count[col], label=topic_summaries[i], color=color_sequence[i], marker='o')\n",
    "\n",
    "plt.title('Number of Articles by Topic Over Time')\n",
    "plt.xlabel('Year')\n",
    "plt.ylabel('Number of Articles')\n",
    "plt.xticks(ticks=topic_by_year_count.index, rotation=90)\n",
    "plt.grid(True)\n",
    "plt.tight_layout()\n",
    "plt.legend(title='Topics', bbox_to_anchor=(1.05, 1), loc='upper left')\n",
    "plt.show()\n",
    "\n",
    "print(topic_by_year_count)\n",
    "\n",
    "\"\"\" Stacked Bar Plot: Proportion of topics by year \"\"\"\n",
    "\n",
    "fig = px.bar(\n",
    "    topic_by_year_proportion,\n",
    "    x=topic_by_year_proportion.index,\n",
    "    y=topic_by_year_proportion.columns,\n",
    "    labels={\"x\": \"Year\", \"value\": \"Proportion of Topics\", \"variable\": \"Topics\"},\n",
    "    title=\"Proportion of Topics Over Time by Year\",\n",
    "    template=\"plotly_white\",\n",
    "    color_discrete_sequence=color_sequence  # Apply the custom muted color sequence directly\n",
    ")\n",
    "\n",
    "# Update the hover info to show the topic summary on hover\n",
    "for i, col in enumerate(topic_by_year_proportion.columns):\n",
    "    fig.data[i].name = topic_summaries[i]  # Assign topic summaries as hover labels\n",
    "\n",
    "# Customize layout\n",
    "fig.update_layout(\n",
    "    xaxis_title=\"Year\",\n",
    "    yaxis_title=\"Proportion of Topics\",\n",
    "    barmode='stack',\n",
    "    hovermode='x unified',\n",
    "    width=1200,\n",
    "    height=600,\n",
    "    legend=dict(\n",
    "      yanchor='bottom',\n",
    "      xanchor='center'\n",
    "  )\n",
    ")\n",
    "\n",
    "fig.show()\n"
   ]
  }
 ],
 "metadata": {
  "accelerator": "GPU",
  "colab": {
   "authorship_tag": "ABX9TyOGw3h9JgkUZjxIA07A6033",
   "gpuType": "T4",
   "provenance": []
  },
  "kernelspec": {
   "display_name": "base",
   "language": "python",
   "name": "python3"
  },
  "language_info": {
   "codemirror_mode": {
    "name": "ipython",
    "version": 3
   },
   "file_extension": ".py",
   "mimetype": "text/x-python",
   "name": "python",
   "nbconvert_exporter": "python",
   "pygments_lexer": "ipython3",
   "version": "3.12.4"
  }
 },
 "nbformat": 4,
 "nbformat_minor": 0
}
